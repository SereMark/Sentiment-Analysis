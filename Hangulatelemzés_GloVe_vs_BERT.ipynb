{
  "cells": [
    {
      "cell_type": "markdown",
      "metadata": {
        "id": "GuOgrxDG6wq4"
      },
      "source": [
        "# IMDb vélemények hangulatelemzése"
      ]
    },
    {
      "cell_type": "markdown",
      "metadata": {
        "id": "Z9e63dYCfmNk"
      },
      "source": [
        "Az alábbi notebook hangulatelemzést használ az IMDb filmkritikák osztályozására statikus (GloVe) és kontextuális (BERT) beágyazások alkalmazásával.\n",
        "A cél az, hogy értékeljük a hatékonyságukat az érzelmek osztályozásában, betekintést nyújtva a modellválasztás és alkalmazási stratégiák terén a természetes nyelvfeldolgozás feladataiban."
      ]
    },
    {
      "cell_type": "markdown",
      "metadata": {
        "id": "6lntDrda61ys"
      },
      "source": [
        "### 1. Projekt felállítása"
      ]
    },
    {
      "cell_type": "markdown",
      "metadata": {
        "id": "iWlFspvY65Vj"
      },
      "source": [
        "#### Adatkészlet megszerzése"
      ]
    },
    {
      "cell_type": "markdown",
      "metadata": {
        "id": "jT7FVCg_fchv"
      },
      "source": [
        "Először is, importáljuk az adatkészletet egy nyilvános github repóból, amelyből majd a modelljeinket tanítani fogjuk."
      ]
    },
    {
      "cell_type": "code",
      "execution_count": null,
      "metadata": {
        "id": "S4F7eRGOgwrx",
        "colab": {
          "base_uri": "https://localhost:8080/"
        },
        "outputId": "adfd4607-bf1a-4bca-8873-732d8226e745"
      },
      "outputs": [
        {
          "output_type": "stream",
          "name": "stdout",
          "text": [
            "--2024-06-02 19:44:00--  https://raw.githubusercontent.com/SereMark/Sentiment-Analysis/main/IMDB%20Dataset.csv\n",
            "Resolving raw.githubusercontent.com (raw.githubusercontent.com)... 185.199.108.133, 185.199.109.133, 185.199.110.133, ...\n",
            "Connecting to raw.githubusercontent.com (raw.githubusercontent.com)|185.199.108.133|:443... connected.\n",
            "HTTP request sent, awaiting response... 200 OK\n",
            "Length: 66212309 (63M) [text/plain]\n",
            "Saving to: ‘IMDB Dataset.csv’\n",
            "\n",
            "IMDB Dataset.csv    100%[===================>]  63.14M   245MB/s    in 0.3s    \n",
            "\n",
            "2024-06-02 19:44:01 (245 MB/s) - ‘IMDB Dataset.csv’ saved [66212309/66212309]\n",
            "\n"
          ]
        }
      ],
      "source": [
        "! rm -rf * && wget https://raw.githubusercontent.com/SereMark/Sentiment-Analysis/main/IMDB%20Dataset.csv"
      ]
    },
    {
      "cell_type": "markdown",
      "metadata": {
        "id": "3HDK2b-864A2"
      },
      "source": [
        "#### Könyvtárak importálása"
      ]
    },
    {
      "cell_type": "markdown",
      "metadata": {
        "id": "VfIyObBnfbEr"
      },
      "source": [
        "Ezután importáljuk az összes szükséges könyvtárat és keretrendszert."
      ]
    },
    {
      "cell_type": "code",
      "execution_count": null,
      "metadata": {
        "id": "-gfbdGP207CA"
      },
      "outputs": [],
      "source": [
        "import pandas as pd\n",
        "import torch\n",
        "import torch.nn as nn\n",
        "import torchtext; torchtext.disable_torchtext_deprecation_warning()\n",
        "import torchtext.vocab as vocab\n",
        "from torch.utils.data import DataLoader, Dataset\n",
        "from transformers import BertTokenizer, BertModel\n",
        "from sklearn.model_selection import train_test_split\n",
        "from sklearn.metrics import classification_report, roc_curve, auc, precision_recall_curve, confusion_matrix\n",
        "import matplotlib.pyplot as plt\n",
        "import seaborn as sns\n",
        "import ipywidgets as widgets\n",
        "from IPython.display import display, clear_output\n",
        "from tqdm import tqdm\n",
        "import warnings"
      ]
    },
    {
      "cell_type": "markdown",
      "metadata": {
        "id": "dPg8t7fucy9I"
      },
      "source": [
        "Konkrét figyelmeztetések elnyomása a tiszta kimenet érdekében, különösen azokat, amelyek nem relevánsak a végrehajtás szempontjából, mint a fordítási részletek és az elavulási figyelmeztetések, amelyek nem befolyásolják a modell teljesítményét."
      ]
    },
    {
      "cell_type": "code",
      "execution_count": null,
      "metadata": {
        "id": "DQ3TKFY-cxvl"
      },
      "outputs": [],
      "source": [
        "warnings.filterwarnings(\"ignore\", message=\"1Torch was not compiled with flash attention.\")"
      ]
    },
    {
      "cell_type": "markdown",
      "metadata": {
        "id": "m3H9wQ-Xc4Fy"
      },
      "source": [
        "A számítási eszköz GPU-ra állítása, ha elérhető, gyorsabb feldolgozás érdekében, egyébként CPU használata. Ez a választás kulcsfontosságú, mivel a BERT és más mélytanulási modellek számításigényesek és jelentősen profitálhatnak a GPU gyorsításból."
      ]
    },
    {
      "cell_type": "code",
      "execution_count": null,
      "metadata": {
        "id": "eH0fbW-cc5_u"
      },
      "outputs": [],
      "source": [
        "device = torch.device(\"cuda\" if torch.cuda.is_available() else \"cpu\")"
      ]
    },
    {
      "cell_type": "markdown",
      "metadata": {
        "id": "fFwHBbax7VAc"
      },
      "source": [
        "#### Adatkészlet betöltése és előfeldolgozása"
      ]
    },
    {
      "cell_type": "markdown",
      "metadata": {
        "id": "PO6KX97LfZb9"
      },
      "source": [
        "Az összes véleményt kisbetűssé alakítjuk az egységesítés érdekében, és a hangulatokat bináris értékekre térképezzük az osztályozáshoz."
      ]
    },
    {
      "cell_type": "code",
      "execution_count": null,
      "metadata": {
        "id": "Dao6EcHMb4Cl"
      },
      "outputs": [],
      "source": [
        "imdb_data = pd.read_csv('IMDB Dataset.csv')\n",
        "imdb_data['review'] = imdb_data['review'].str.lower()  # Szöveg normalizálása kisbetűsítéssel.\n",
        "imdb_data['sentiment'] = imdb_data['sentiment'].map({'positive': 1, 'negative': 0})  # Szöveges hangulatcímkék bináris értékké térképezése."
      ]
    },
    {
      "cell_type": "markdown",
      "metadata": {
        "id": "frOysyN6dEDR"
      },
      "source": [
        "Az adatkészletet betanító és validáló halmazra bontjuk 80/20 arányban. Ez segít a modell validálásában láthatatlan adatokon. A véletlenszerű állapot rögzítve van a 42-es értéken az osztás reprodukálhatóságának biztosítása érdekében."
      ]
    },
    {
      "cell_type": "code",
      "execution_count": null,
      "metadata": {
        "id": "L0uJ62I6dIhr"
      },
      "outputs": [],
      "source": [
        "train_reviews, val_reviews, train_sentiments, val_sentiments = train_test_split(\n",
        "    imdb_data['review'].tolist(), imdb_data['sentiment'].tolist(), test_size=0.2, random_state=42\n",
        ")"
      ]
    },
    {
      "cell_type": "markdown",
      "metadata": {
        "id": "T2YlHviddMlt"
      },
      "source": [
        "#### Véleményhosszak hisztogramjának ábrázolása az egyes hangulatok szerint"
      ]
    },
    {
      "cell_type": "markdown",
      "metadata": {
        "id": "pWEYepKBdJE-"
      },
      "source": [
        "Vélemények különválasztása hangulat alapján a pozitív és negatív vélemények szavainak számának megértéséhez."
      ]
    },
    {
      "cell_type": "code",
      "execution_count": null,
      "metadata": {
        "id": "A6jcID8pdK6Q"
      },
      "outputs": [],
      "source": [
        "positive_reviews = [len(review.split()) for review, sentiment in zip(imdb_data['review'].tolist(), imdb_data['sentiment'].tolist()) if sentiment == 1]\n",
        "negative_reviews = [len(review.split()) for review, sentiment in zip(imdb_data['review'].tolist(), imdb_data['sentiment'].tolist()) if sentiment == 0]"
      ]
    },
    {
      "cell_type": "markdown",
      "metadata": {
        "id": "be4efgPqdWs0"
      },
      "source": [
        "Véleményhosszak hisztogramjának ábrázolása, mely segít megérteni, hogy a vélemények hossza összefügg-e a hangulattal, ami befolyásolhatja a modell betanítását."
      ]
    },
    {
      "cell_type": "code",
      "execution_count": null,
      "metadata": {
        "id": "K7tLGaeqdPZl",
        "colab": {
          "base_uri": "https://localhost:8080/",
          "height": 472
        },
        "outputId": "f9d27a66-eab4-4d28-91b2-b8c0a3a19919"
      },
      "outputs": [
        {
          "output_type": "display_data",
          "data": {
            "text/plain": [
              "<Figure size 640x480 with 1 Axes>"
            ],
            "image/png": "[encoded data removed]"
          },
          "metadata": {}
        }
      ],
      "source": [
        "plt.figure()\n",
        "plt.hist(positive_reviews, bins=30, color='blue', alpha=0.7, label='Pozitív')\n",
        "plt.hist(negative_reviews, bins=30, color='red', alpha=0.7, label='Negatív')\n",
        "plt.title('Véleményhosszak Hisztogramja')\n",
        "plt.xlabel('Szavak száma')\n",
        "plt.ylabel('Gyakoriság')\n",
        "plt.legend(loc='upper right')\n",
        "plt.show()"
      ]
    },
    {
      "cell_type": "markdown",
      "metadata": {
        "id": "MZilcesC7u2Q"
      },
      "source": [
        "### 2. Modellek és osztályok felállítása"
      ]
    },
    {
      "cell_type": "markdown",
      "metadata": {
        "id": "zMIprHhE8aRF"
      },
      "source": [
        "#### GloVe"
      ]
    },
    {
      "cell_type": "markdown",
      "metadata": {
        "id": "9ZR1ErC3dvjx"
      },
      "source": [
        "##### GloVe beágyazások inicializálása"
      ]
    },
    {
      "cell_type": "markdown",
      "metadata": {
        "id": "wjgmHrgbd0rY"
      },
      "source": [
        "Itt a GloVe-t használjuk statikus szóbeágyazási módszerként a szavak alacsony dimenziós vektortérben való reprezentálására. Ez a modell előre betanított, és egy korpuszban a szavak együttes előfordulása alapján rögzíti a szemantikai jelentést."
      ]
    },
    {
      "cell_type": "code",
      "execution_count": null,
      "metadata": {
        "id": "WOKerOWhd_jQ",
        "colab": {
          "base_uri": "https://localhost:8080/"
        },
        "outputId": "cd58cada-2437-4be2-dc16-ed399a01e07d"
      },
      "outputs": [
        {
          "output_type": "stream",
          "name": "stderr",
          "text": [
            ".vector_cache/glove.6B.zip: 862MB [02:39, 5.42MB/s]                           \n",
            "100%|█████████▉| 399999/400000 [00:22<00:00, 17950.33it/s]\n"
          ]
        }
      ],
      "source": [
        "glove_embeddings = vocab.GloVe(name='6B', dim=100)  # 100 dimenziós tér használata minden szó reprezentálására."
      ]
    },
    {
      "cell_type": "markdown",
      "metadata": {
        "id": "-0K0hwgBd44p"
      },
      "source": [
        "##### Függvény a GloVe beágyazások lekérésére szövegből"
      ]
    },
    {
      "cell_type": "markdown",
      "metadata": {
        "id": "bytAF0Pcd6ad"
      },
      "source": [
        "Ez a függvény tokenizálja a szöveget, lekéri a tokenek beágyazásait, ha elérhetőek, és átlagolja őket egy fix hosszúságú bemeneti vektor létrehozásához a neurális hálózat számára. Ez az átlagos beágyazás egyszerű, de hatékony módszer a szöveginformáció kódolására."
      ]
    },
    {
      "cell_type": "code",
      "execution_count": null,
      "metadata": {
        "id": "6zFEzCnueITx"
      },
      "outputs": [],
      "source": [
        "def fetch_glove_embeddings(text):\n",
        "    tokens = text.split()\n",
        "    embeddings = [glove_embeddings[t].unsqueeze(0) for t in tokens if t in glove_embeddings.stoi]\n",
        "    return torch.cat(embeddings, dim=0).mean(dim=0) if embeddings else torch.zeros(glove_embeddings.dim)\n",
        "\n",
        "train_glove_embeddings = [fetch_glove_embeddings(text) for text in train_reviews]\n",
        "val_glove_embeddings = [fetch_glove_embeddings(text) for text in val_reviews]"
      ]
    },
    {
      "cell_type": "markdown",
      "metadata": {
        "id": "cuQ_b9uSeDDS"
      },
      "source": [
        "##### GloVe beágyazásokat használó adatkészlet osztály"
      ]
    },
    {
      "cell_type": "markdown",
      "metadata": {
        "id": "cNOzcOQneEH7"
      },
      "source": [
        "Ez a saját adatkészlet előkészíti az előre kiszámított GloVe beágyazásokból álló kötegeket, amelyeket egy egyszerű neurális hálózati osztályozó betanítására használunk. Ez az osztály kapszulázza az adatkezelést a PyTorch modell betanításához."
      ]
    },
    {
      "cell_type": "code",
      "execution_count": null,
      "metadata": {
        "id": "GErw6uOS02No"
      },
      "outputs": [],
      "source": [
        "class GloVeDataset(Dataset):\n",
        "    def __init__(self, embeddings, labels):\n",
        "        self.embeddings = torch.stack(embeddings)\n",
        "        self.labels = torch.tensor(labels, dtype=torch.long)\n",
        "\n",
        "    def __len__(self):\n",
        "        return len(self.embeddings)\n",
        "\n",
        "    def __getitem__(self, idx):\n",
        "        return {'embedding': self.embeddings[idx].clone().detach(), 'label': self.labels[idx]}"
      ]
    },
    {
      "cell_type": "markdown",
      "metadata": {
        "id": "sN5ZE-n18Bbj"
      },
      "source": [
        "#### BERT"
      ]
    },
    {
      "cell_type": "markdown",
      "metadata": {
        "id": "EDS_dTLve04t"
      },
      "source": [
        "##### BERT tokenizáló és modell beállítása"
      ]
    },
    {
      "cell_type": "markdown",
      "metadata": {
        "id": "oLMHdEFNe42g"
      },
      "source": [
        "A BERT egy specifikus szövegelőfeldolgozási típust igényel egy tokenizálóval, ami szétbontja a szöveget tokenekre és leképezi őket az előre betanított modell szókincsének megfelelő indexekre."
      ]
    },
    {
      "cell_type": "code",
      "execution_count": null,
      "metadata": {
        "id": "TIqJmTqE04CQ",
        "colab": {
          "base_uri": "https://localhost:8080/",
          "height": 284,
          "referenced_widgets": [
            "208e9835cf3c41b5b956c9334096ca7a",
            "3e9721ce6c6849b1a670bdc18548f7c5",
            "175393e50359413d92b2754a44fb5728",
            "3dd11a206d114c89ac374567ceb2d3b3",
            "bad9df09fe6545e4a011d101acb2a0f8",
            "c746b7f70f1c4709a69de1312e3f97e6",
            "828376f9995f4a3c96855e999454237c",
            "925a3835cfd2470095e13f109ec58e55",
            "df122e0c42ad488ab54e264ebd2d4add",
            "1f677d76268c41f897252f5293b2d844",
            "7075f46062914d5fb49c9de299bb2c36",
            "b49ce590cf4741c89603215eb65ec7f0",
            "e2d9e2f43e8d4723a1240a11090edb7f",
            "6791f7b821f943d9be183d92dc0942b9",
            "bd67475d8e40484b921e5757fd61434e",
            "b407ddea70844981b134bd59bfb9828b",
            "d02fee15307b4a54a7a7ae5ddee39945",
            "b2308a60854d4074a934d6d70707011e",
            "9b7527cdf74048dcb04a57a862833d0c",
            "f8f4d82d449644bdb625905aefef3e8a",
            "a503e093e08c43fe9e1e0acf803bfb98",
            "52844f3b9a2f4395b2d5d2fb4a82b166",
            "3e89ae3b68244b7a8d7cda43e6df75ad",
            "638d9d526ba044c4a5a8757292883668",
            "f0f7c799a3b94fd08fc7ba279bbe27a7",
            "7df303c39ded4f1b91f508287427c5ee",
            "0d5d31fd3bf2407b8bdda6a0fde258a6",
            "27b9b809fa4749309ce15b373282e9ae",
            "c0656be812474ae99b856c8adfc758f8",
            "759dd814744647de8a6dccb8957b9f5e",
            "06e20122600043488ca34fe9b5541533",
            "893d3f7961c14d039cde3b83428266d5",
            "6a8bff07532a4913bdc3ca42e63d49d0",
            "d624f2ff0cd646648808da8c51024566",
            "29f33fa276b840d38fde244ff82bff3f",
            "e39c4603bf5242c2a273143137bf6cd5",
            "bda6f10bf8794355ae1f5a9742c7456a",
            "b8ee4bb52ccc4cf393d3df1bc3b6afe6",
            "7f44911b10564c69afd60e8cfba47ea7",
            "6c4ff27e34b44e2a8d67c2ff38091355",
            "c8a8775207174d59ad1943fd627a1a81",
            "40bfe34675084b1187947b4d0fb3ce31",
            "6de568cd9fcd4803ac22fe526fbbceaa",
            "caeab44bcd2e4ab1a93618f63dd7b50b"
          ]
        },
        "outputId": "83b39b65-7b8d-4e9c-cced-6db52165f630"
      },
      "outputs": [
        {
          "output_type": "stream",
          "name": "stderr",
          "text": [
            "/usr/local/lib/python3.10/dist-packages/huggingface_hub/utils/_token.py:89: UserWarning: \n",
            "The secret `HF_TOKEN` does not exist in your Colab secrets.\n",
            "To authenticate with the Hugging Face Hub, create a token in your settings tab (https://huggingface.co/settings/tokens), set it as secret in your Google Colab and restart your session.\n",
            "You will be able to reuse this secret in all of your notebooks.\n",
            "Please note that authentication is recommended but still optional to access public models or datasets.\n",
            "  warnings.warn(\n"
          ]
        },
        {
          "output_type": "display_data",
          "data": {
            "text/plain": [
              "tokenizer_config.json:   0%|          | 0.00/48.0 [00:00<?, ?B/s]"
            ],
            "application/vnd.jupyter.widget-view+json": {
              "version_major": 2,
              "version_minor": 0,
              "model_id": "208e9835cf3c41b5b956c9334096ca7a"
            }
          },
          "metadata": {}
        },
        {
          "output_type": "display_data",
          "data": {
            "text/plain": [
              "vocab.txt:   0%|          | 0.00/232k [00:00<?, ?B/s]"
            ],
            "application/vnd.jupyter.widget-view+json": {
              "version_major": 2,
              "version_minor": 0,
              "model_id": "b49ce590cf4741c89603215eb65ec7f0"
            }
          },
          "metadata": {}
        },
        {
          "output_type": "display_data",
          "data": {
            "text/plain": [
              "tokenizer.json:   0%|          | 0.00/466k [00:00<?, ?B/s]"
            ],
            "application/vnd.jupyter.widget-view+json": {
              "version_major": 2,
              "version_minor": 0,
              "model_id": "3e89ae3b68244b7a8d7cda43e6df75ad"
            }
          },
          "metadata": {}
        },
        {
          "output_type": "stream",
          "name": "stderr",
          "text": [
            "/usr/local/lib/python3.10/dist-packages/huggingface_hub/file_download.py:1132: FutureWarning: `resume_download` is deprecated and will be removed in version 1.0.0. Downloads always resume when possible. If you want to force a new download, use `force_download=True`.\n",
            "  warnings.warn(\n"
          ]
        },
        {
          "output_type": "display_data",
          "data": {
            "text/plain": [
              "config.json:   0%|          | 0.00/570 [00:00<?, ?B/s]"
            ],
            "application/vnd.jupyter.widget-view+json": {
              "version_major": 2,
              "version_minor": 0,
              "model_id": "d624f2ff0cd646648808da8c51024566"
            }
          },
          "metadata": {}
        }
      ],
      "source": [
        "bert_tokenizer = BertTokenizer.from_pretrained('bert-base-uncased')"
      ]
    },
    {
      "cell_type": "markdown",
      "metadata": {
        "id": "abuI0RNae7vB"
      },
      "source": [
        "##### BERT tokenizált adatokat használó adatkészlet osztály"
      ]
    },
    {
      "cell_type": "markdown",
      "metadata": {
        "id": "tkMBIl7TfATb"
      },
      "source": [
        "Hasonló a GloVe adatkészlethez, de a BERT bemenetekre szabva. Feldolgozza a szöveget a BERT tokenizálójával, automatikusan kezeli a maximális hosszt és a kitöltést, és előkészíti a bemeneti tenzorokat a BERT modell feldolgozásához."
      ]
    },
    {
      "cell_type": "code",
      "execution_count": null,
      "metadata": {
        "id": "DilNXMgpfAtM"
      },
      "outputs": [],
      "source": [
        "class BertDataset(Dataset):\n",
        "    def __init__(self, texts, labels):\n",
        "        self.texts = texts\n",
        "        self.labels = torch.tensor(labels, dtype=torch.long)\n",
        "\n",
        "    def __len__(self):\n",
        "        return len(self.texts)\n",
        "\n",
        "    def __getitem__(self, idx):\n",
        "        tokenized_data = bert_tokenizer(\n",
        "            self.texts[idx], padding='max_length', truncation=True, max_length=256, return_tensors=\"pt\"\n",
        "        )\n",
        "        return {\n",
        "            'input_ids': tokenized_data['input_ids'].squeeze().clone().detach(),\n",
        "            'attention_mask': tokenized_data['attention_mask'].squeeze().clone().detach(),\n",
        "            'labels': self.labels[idx]\n",
        "        }"
      ]
    },
    {
      "cell_type": "markdown",
      "metadata": {
        "id": "Juy75PYh8h_d"
      },
      "source": [
        "#### Általánosított modell osztály az érzelmek elemzéséhez"
      ]
    },
    {
      "cell_type": "markdown",
      "metadata": {
        "id": "BHUtyixlfUbe"
      },
      "source": [
        "Ez az osztály egy BERT-alapú osztályozó és egy egyszerűbb neurális háló között tud válogatni a 'model_type' paraméter alapján. Ez a polimorfizmus demonstrációja a modelltervezésben PyTorch keretrendszeren belül."
      ]
    },
    {
      "cell_type": "code",
      "execution_count": null,
      "metadata": {
        "id": "t8OkDe2g0vJX"
      },
      "outputs": [],
      "source": [
        "class SentimentClassifier(nn.Module):\n",
        "    def __init__(self, model_type='BERT'):\n",
        "        super().__init__()\n",
        "        if model_type == 'BERT':\n",
        "            self.model = BertModel.from_pretrained('bert-base-uncased')\n",
        "            self.dropout = nn.Dropout(0.3)  # Dropout a szabályozásra.\n",
        "            self.classifier = nn.Linear(self.model.config.hidden_size, 2)  # A végső kimeneti réteg, ami a BERT kimeneteket két osztályra képezi le.\n",
        "        else:\n",
        "            self.fc1 = nn.Linear(100, 50)  # Az egyszerű neurális háló első rétege a GloVe beágyazásokhoz.\n",
        "            self.relu = nn.ReLU()  # ReLU aktivációs függvény a nemlinearitás bevezetésére.\n",
        "            self.dropout = nn.Dropout(0.5)  # Magasabb dropout arány az egyszerűbb modelleknél a túltanulás elkerülése érdekében.\n",
        "            self.fc2 = nn.Linear(50, 2)  # A végső réteg, ami két osztályra képezi le a kimeneteket.\n",
        "\n",
        "    def forward(self, x, attention_mask=None):\n",
        "        if hasattr(self, 'model'):\n",
        "            output = self.model(x, attention_mask=attention_mask)[1]  # Feldolgozza a bemenetet a BERT modellen keresztül.\n",
        "            output = self.dropout(output)\n",
        "            return self.classifier(output)  # Alkalmazza az osztályozót a BERT kimenetére.\n",
        "        else:\n",
        "            x = self.fc1(x)\n",
        "            x = self.relu(x)\n",
        "            x = self.dropout(x)\n",
        "            return self.fc2(x)  # Feldolgozza a bemenetet az egyszerű neurális hálón keresztül."
      ]
    },
    {
      "cell_type": "markdown",
      "metadata": {
        "id": "sZx8ZqCm8r83"
      },
      "source": [
        "#### Felkészülés a tanításra"
      ]
    },
    {
      "cell_type": "markdown",
      "metadata": {
        "id": "tvg23cvHfvIp"
      },
      "source": [
        "##### Adatok betöltése DataLoaderbe"
      ]
    },
    {
      "cell_type": "markdown",
      "metadata": {
        "id": "3Zf0TO_3fwcL"
      },
      "source": [
        "A DataLoader-ek kulcsfontosságú összetevők a PyTorchban az adatok kötegelt kezelésére. Automatizálják az adatok betöltését és keverését, iterálhatóvá téve az adatkészletet a betanítási és értékelési fázisok során."
      ]
    },
    {
      "cell_type": "code",
      "execution_count": null,
      "metadata": {
        "id": "JiB76kzof8GY"
      },
      "outputs": [],
      "source": [
        "train_loader = DataLoader(BertDataset(train_reviews, train_sentiments), batch_size=16, shuffle=True)\n",
        "val_loader = DataLoader(BertDataset(val_reviews, val_sentiments), batch_size=16, shuffle=False)\n",
        "glove_train_loader = DataLoader(GloVeDataset(train_glove_embeddings, train_sentiments), batch_size=16, shuffle=True)\n",
        "glove_val_loader = DataLoader(GloVeDataset(val_glove_embeddings, val_sentiments), batch_size=16, shuffle=False)"
      ]
    },
    {
      "cell_type": "markdown",
      "metadata": {
        "id": "GroPNibuf2Bj"
      },
      "source": [
        "##### Modellek, optimalizálók és veszteségfüggvény inicializálása"
      ]
    },
    {
      "cell_type": "markdown",
      "metadata": {
        "id": "t4wRih3ef28f"
      },
      "source": [
        "Az optimalizáló választása és beállításai, mint a tanulási ráta, jelentősen befolyásolhatják a betanítási dinamikát és a modellek végső teljesítményét. Itt az Adam optimalizálót használjuk, mivel hatékonyan kezeli a ritka gradienseket és adaptív tanulási rátát biztosít."
      ]
    },
    {
      "cell_type": "code",
      "execution_count": null,
      "metadata": {
        "id": "bSImj7k10sMw",
        "colab": {
          "base_uri": "https://localhost:8080/",
          "height": 49,
          "referenced_widgets": [
            "714f526e023c43b3bd36a1141806e6f1",
            "350ea9b60dbc47358693e696273f6d32",
            "bddbfe9258794269bf09c4b98207ba02",
            "ce07665e86ba412cb4a21effaa9c61d4",
            "f0fdf6357803490a9db70b20152b546d",
            "0dfb1220e4ef422e860d160ead8d6562",
            "cefe5e5a92504295b7cfcda0fc672530",
            "c00f8fc951d44545aa07f8b56a886774",
            "80128805f7734b5cada1d51e10cac2bb",
            "e42d66482d7e4f8dbe16c269181dc787",
            "d2826451d7eb4419a551310aa810ecda"
          ]
        },
        "outputId": "c37f372e-1341-46a8-f363-0922e6f114bd"
      },
      "outputs": [
        {
          "output_type": "display_data",
          "data": {
            "text/plain": [
              "model.safetensors:   0%|          | 0.00/440M [00:00<?, ?B/s]"
            ],
            "application/vnd.jupyter.widget-view+json": {
              "version_major": 2,
              "version_minor": 0,
              "model_id": "714f526e023c43b3bd36a1141806e6f1"
            }
          },
          "metadata": {}
        }
      ],
      "source": [
        "bert_classifier = SentimentClassifier('BERT').to(device)  # BERT-alapú modell inicializálása és GPU-ra helyezése, ha elérhető.\n",
        "glove_classifier = SentimentClassifier('GloVe').to(device)  # GloVe-alapú egyszerű neurális háló modell szintén GPU-ra helyezése.\n",
        "optimizer_bert = torch.optim.Adam(bert_classifier.parameters(), lr=2e-5)  # Az BERT tanulási rátája nagyon alacsony kell legyen a túltanulás elkerülése érdekében.\n",
        "optimizer_glove = torch.optim.Adam(glove_classifier.parameters(), lr=5e-4)  # Magasabb tanulási ráta az egyszerűbb modellhez.\n",
        "loss_function = nn.CrossEntropyLoss()  # A CrossEntropyLoss alkalmas bináris osztályozási feladatokra."
      ]
    },
    {
      "cell_type": "markdown",
      "metadata": {
        "id": "wbJCkQWa9Orf"
      },
      "source": [
        "### 3. Betanítás"
      ]
    },
    {
      "cell_type": "markdown",
      "metadata": {
        "id": "EWTDRWPCgYCd"
      },
      "source": [
        "#### Betanítási függvény"
      ]
    },
    {
      "cell_type": "markdown",
      "metadata": {
        "id": "ON6xG2l0gacD"
      },
      "source": [
        "A betanítási függvény kapszulázza a betanítási ciklust, amely többször ismétlődik az adatkészleten (epochok), feldolgozva minden köteget, kiszámítva a veszteséget, és frissítve a modell súlyait. Kiírja a betanítási előrehaladást és a veszteséget minden epochnál, betekintést nyújtva abba, hogy milyen jól tanul a modell."
      ]
    },
    {
      "cell_type": "code",
      "execution_count": null,
      "metadata": {
        "id": "8Xgx28R70qSm"
      },
      "outputs": [],
      "source": [
        "def train(model, loader, optimizer, loss_function, device, model_type='BERT', epochs=1):\n",
        "    model.train()  # A modellt betanítási módba állítja.\n",
        "    all_epoch_losses = []  # Lista a veszteségek tárolására epochonként későbbi elemzéshez.\n",
        "    print(\"A betanítás elkezdődött...\")\n",
        "    for epoch in range(epochs):  # Többször ismételjük meg az adatkészletet.\n",
        "        epoch_loss = 0\n",
        "        print(f\"Epoch {epoch+1}/{epochs} elkezdődött...\")\n",
        "        for batch in tqdm(loader, desc=f\"{epoch+1}. Epoch betanítása\"):  # tqdm használata a haladás megjelenítésére minden epochnál.\n",
        "            optimizer.zero_grad()  # Régi gradiensek törlése az utolsó lépésből.\n",
        "            if model_type == 'BERT':\n",
        "                input_ids = batch['input_ids'].to(device)  # Kötegadatok betöltése a GPU-ra.\n",
        "                attention_mask = batch['attention_mask'].to(device)\n",
        "                labels = batch['labels'].to(device)\n",
        "                outputs = model(input_ids, attention_mask)  # Köteg átadása a modellen.\n",
        "            else:\n",
        "                embeddings = batch['embedding'].to(device)\n",
        "                labels = batch['label'].to(device)\n",
        "                outputs = model(embeddings)\n",
        "            loss = loss_function(outputs, labels)  # Veszteség kiszámítása a modell kimenete és a tényleges címkék között.\n",
        "            loss.backward()  # Visszaterjedési lépés a gradiensek kiszámításához.\n",
        "            optimizer.step()  # Súlyok módosítása a gradiensek alapján.\n",
        "            epoch_loss += loss.item()  # A veszteség összegzése jelentéshez.\n",
        "        avg_loss = epoch_loss / len(loader)  # Az epoch átlagos vesztése.\n",
        "        all_epoch_losses.append(avg_loss)  # Az átlagos veszteség tárolása.\n",
        "        print(f\"{epoch+1}. Epoch betanítása befejeződött. Betanítási veszteség: {avg_loss}\")\n",
        "    print(\"A betanítás befejeződött.\")\n",
        "    return all_epoch_losses  # Visszaadja az egyes epochok átlagos veszteségét az elemzéshez.\n"
      ]
    },
    {
      "cell_type": "markdown",
      "metadata": {
        "id": "VjFKOTjggcH3"
      },
      "source": [
        "#### Mindkét modell betanítása"
      ]
    },
    {
      "cell_type": "markdown",
      "metadata": {
        "id": "NCGdTra-germ"
      },
      "source": [
        "A modelleket bizonyos számú epochokon keresztül betanítjuk."
      ]
    },
    {
      "cell_type": "code",
      "execution_count": null,
      "metadata": {
        "id": "zUQONkNMgda4",
        "colab": {
          "base_uri": "https://localhost:8080/"
        },
        "outputId": "01160990-c025-416b-b350-b8741ac1f49d"
      },
      "outputs": [
        {
          "metadata": {
            "tags": null
          },
          "name": "stdout",
          "output_type": "stream",
          "text": [
            "A betanítás elkezdődött...\n",
            "Epoch 1/3 elkezdődött...\n"
          ]
        },
        {
          "metadata": {
            "tags": null
          },
          "name": "stderr",
          "output_type": "stream",
          "text": [
            "1. Epoch betanítása: 100%|██████████| 2500/2500 [32:40<00:00,  1.28it/s]\n"
          ]
        },
        {
          "metadata": {
            "tags": null
          },
          "name": "stdout",
          "output_type": "stream",
          "text": [
            "1. Epoch betanítása befejeződött. Betanítási veszteség: 0.24643469770625234\n",
            "Epoch 2/3 elkezdődött...\n"
          ]
        },
        {
          "output_type": "stream",
          "name": "stderr",
          "text": [
            "2. Epoch betanítása: 100%|██████████| 2500/2500 [32:44<00:00,  1.27it/s]\n"
          ]
        },
        {
          "output_type": "stream",
          "name": "stdout",
          "text": [
            "2. Epoch betanítása befejeződött. Betanítási veszteség: 0.1337732559967786\n",
            "Epoch 3/3 elkezdődött...\n"
          ]
        },
        {
          "output_type": "stream",
          "name": "stderr",
          "text": [
            "3. Epoch betanítása: 100%|██████████| 2500/2500 [32:43<00:00,  1.27it/s]\n"
          ]
        },
        {
          "output_type": "stream",
          "name": "stdout",
          "text": [
            "3. Epoch betanítása befejeződött. Betanítási veszteség: 0.0693017502032686\n",
            "A betanítás befejeződött.\n",
            "A betanítás elkezdődött...\n",
            "Epoch 1/3 elkezdődött...\n"
          ]
        },
        {
          "output_type": "stream",
          "name": "stderr",
          "text": [
            "1. Epoch betanítása: 100%|██████████| 2500/2500 [00:04<00:00, 584.73it/s]\n"
          ]
        },
        {
          "output_type": "stream",
          "name": "stdout",
          "text": [
            "1. Epoch betanítása befejeződött. Betanítási veszteség: 0.6006327442526818\n",
            "Epoch 2/3 elkezdődött...\n"
          ]
        },
        {
          "output_type": "stream",
          "name": "stderr",
          "text": [
            "2. Epoch betanítása: 100%|██████████| 2500/2500 [00:04<00:00, 517.88it/s]\n"
          ]
        },
        {
          "output_type": "stream",
          "name": "stdout",
          "text": [
            "2. Epoch betanítása befejeződött. Betanítási veszteség: 0.524588534861803\n",
            "Epoch 3/3 elkezdődött...\n"
          ]
        },
        {
          "output_type": "stream",
          "name": "stderr",
          "text": [
            "3. Epoch betanítása: 100%|██████████| 2500/2500 [00:05<00:00, 469.13it/s]"
          ]
        },
        {
          "output_type": "stream",
          "name": "stdout",
          "text": [
            "3. Epoch betanítása befejeződött. Betanítási veszteség: 0.5050698356926441\n",
            "A betanítás befejeződött.\n"
          ]
        },
        {
          "output_type": "stream",
          "name": "stderr",
          "text": [
            "\n"
          ]
        }
      ],
      "source": [
        "bert_losses = train(bert_classifier, train_loader, optimizer_bert, loss_function, device, 'BERT', epochs=3)\n",
        "glove_losses = train(glove_classifier, glove_train_loader, optimizer_glove, loss_function, device, 'GloVe', epochs=3)"
      ]
    },
    {
      "cell_type": "markdown",
      "metadata": {
        "id": "3KpzJDNN9Vvz"
      },
      "source": [
        "### 4. Értékelés"
      ]
    },
    {
      "cell_type": "markdown",
      "metadata": {
        "id": "GnXka4ySgvjJ"
      },
      "source": [
        "#### Értékelési függvény"
      ]
    },
    {
      "cell_type": "markdown",
      "metadata": {
        "id": "EHLyiQULgxpR"
      },
      "source": [
        "Ez a függvény értékeli a betanított modellt egy validációs készleten. Kikapcsolja a gradiensszámítást, ezzel memóriát takarít meg és gyorsítja fel a számítást, ami létfontosságú a nagy modellek, mint a BERT értékelésekor. Kiszámítja a modell predikcióit, összehasonlítja azokat a valódi címkékkel, és kiszámítja a pozitív hangulat valószínűségét, amely hasznos az ROC és a precizitás-visszahívás görbék elemzéséhez."
      ]
    },
    {
      "cell_type": "code",
      "execution_count": null,
      "metadata": {
        "id": "7Pa8JH9T0ocN"
      },
      "outputs": [],
      "source": [
        "def evaluate(model, loader, device, model_type='BERT'):\n",
        "    model.eval()  # A modellt értékelési módba állítja.\n",
        "    predictions, true_labels, probabilities = [], [], []\n",
        "    print(\"Az értékelés elkezdődött...\")\n",
        "    with torch.no_grad():  # Gradiensszámítás kikapcsolása a memória megtakarítása és a számítás gyorsítása érdekében.\n",
        "        for batch in tqdm(loader, desc=\"Értékelés\"):  # Iterálás minden egyes kötegen a betöltőn keresztül.\n",
        "            if model_type == 'BERT':\n",
        "                input_ids = batch['input_ids'].to(device)  # Kötegadatok betöltése a GPU-ra.\n",
        "                attention_mask = batch['attention_mask'].to(device)\n",
        "                labels = batch['labels'].to(device)\n",
        "                outputs = model(input_ids, attention_mask)  # Adatok átadása a modellen.\n",
        "                outputs = outputs.softmax(dim=-1)  # Softmax alkalmazása a valószínűségek megszerzéséhez.\n",
        "            else:\n",
        "                embeddings = batch['embedding'].to(device)\n",
        "                labels = batch['label'].to(device)\n",
        "                outputs = model(embeddings)\n",
        "                outputs = outputs.softmax(dim=-1)\n",
        "            _, preds = torch.max(outputs, dim=1)  # A prediktált címkék megszerzése.\n",
        "            predictions.extend(preds.cpu().numpy())  # Predikciók tárolása a metrikák kiszámításához később.\n",
        "            true_labels.extend(labels.cpu().numpy())  # Valódi címkék tárolása a metrikák kiszámításához.\n",
        "            probabilities.extend(outputs.cpu().numpy()[:, 1])  # Valószínűségek tárolása az ROC és a precizitás-visszahívás elemzéshez.\n",
        "    print(\"Az értékelés befejeződött.\")\n",
        "    print(classification_report(true_labels, predictions))  # A modell teljesítményének értékelésére szolgáló osztályozási metrikák kiírása.\n",
        "    return predictions, true_labels, probabilities  # Visszaadja a predikciókat, a valódi címkéket és a valószínűségeket további elemzéshez."
      ]
    },
    {
      "cell_type": "markdown",
      "metadata": {
        "id": "DNx8MVB7g6lI"
      },
      "source": [
        "#### Mindkét modell értékelése"
      ]
    },
    {
      "cell_type": "markdown",
      "metadata": {
        "id": "V2T4MuGig7m-"
      },
      "source": [
        "A betanítás után mindkét modellt értékeljük a validációs készleten az objektív teljesítmény összehasonlításához."
      ]
    },
    {
      "cell_type": "code",
      "execution_count": null,
      "metadata": {
        "id": "PCn6EZU_g44Z",
        "colab": {
          "base_uri": "https://localhost:8080/"
        },
        "outputId": "9984eb63-7518-4c9f-aec2-72c99316f274"
      },
      "outputs": [
        {
          "output_type": "stream",
          "name": "stdout",
          "text": [
            "Az értékelés elkezdődött...\n"
          ]
        },
        {
          "output_type": "stream",
          "name": "stderr",
          "text": [
            "Értékelés: 100%|██████████| 625/625 [03:15<00:00,  3.19it/s]\n"
          ]
        },
        {
          "output_type": "stream",
          "name": "stdout",
          "text": [
            "Az értékelés befejeződött.\n",
            "              precision    recall  f1-score   support\n",
            "\n",
            "           0       0.94      0.91      0.92      4961\n",
            "           1       0.92      0.94      0.93      5039\n",
            "\n",
            "    accuracy                           0.93     10000\n",
            "   macro avg       0.93      0.93      0.93     10000\n",
            "weighted avg       0.93      0.93      0.93     10000\n",
            "\n",
            "Az értékelés elkezdődött...\n"
          ]
        },
        {
          "output_type": "stream",
          "name": "stderr",
          "text": [
            "Értékelés: 100%|██████████| 625/625 [00:00<00:00, 1498.82it/s]"
          ]
        },
        {
          "output_type": "stream",
          "name": "stdout",
          "text": [
            "Az értékelés befejeződött.\n",
            "              precision    recall  f1-score   support\n",
            "\n",
            "           0       0.77      0.76      0.76      4961\n",
            "           1       0.77      0.77      0.77      5039\n",
            "\n",
            "    accuracy                           0.77     10000\n",
            "   macro avg       0.77      0.77      0.77     10000\n",
            "weighted avg       0.77      0.77      0.77     10000\n",
            "\n"
          ]
        },
        {
          "output_type": "stream",
          "name": "stderr",
          "text": [
            "\n"
          ]
        }
      ],
      "source": [
        "bert_preds, bert_labels, bert_probs = evaluate(bert_classifier, val_loader, device, 'BERT')\n",
        "glove_preds, glove_labels, glove_probs = evaluate(glove_classifier, glove_val_loader, device, 'GloVe')"
      ]
    },
    {
      "cell_type": "markdown",
      "metadata": {
        "id": "O0lWJfoW9an4"
      },
      "source": [
        "### 5. Ábrázolás\n",
        "Modelljeinket grafikonok segítségével tudjuk összehasonlítani"
      ]
    },
    {
      "cell_type": "markdown",
      "metadata": {
        "id": "OdFBAB739i13"
      },
      "source": [
        "#### Betanítási veszteség összehasonlító ábrázolás"
      ]
    },
    {
      "cell_type": "markdown",
      "metadata": {
        "id": "cvzH9vZfh3dD"
      },
      "source": [
        "Ábrázoljuk a két modell betanítási veszteségeit az adott epochokon keresztül, hogy vizualizáljuk és összehasonlítsuk, hogy melyik modell hogyan tanul az idő múlásával. Egy alacsonyabb vagy simább veszteség görbe jobb tanulási folyamatot jelezhet."
      ]
    },
    {
      "cell_type": "code",
      "execution_count": null,
      "metadata": {
        "id": "U3MGfPuR1jBF",
        "colab": {
          "base_uri": "https://localhost:8080/",
          "height": 472
        },
        "outputId": "5492a3bc-daa5-4f38-8b7f-22c5a96c255c"
      },
      "outputs": [
        {
          "output_type": "display_data",
          "data": {
            "text/plain": [
              "<Figure size 640x480 with 1 Axes>"
            ],
            "image/png": "[encoded data removed]"
          },
          "metadata": {}
        }
      ],
      "source": [
        "def plot_combined_training_loss(losses1, losses2, name1, name2):\n",
        "    plt.figure()\n",
        "    plt.plot(losses1, label=f'{name1} betanítási vesztesége')  # BERT betanítási veszteségeinek ábrázolása.\n",
        "    plt.plot(losses2, label=f'{name2} betanítási vesztesége')  # GloVe betanítási veszteségeinek ábrázolása.\n",
        "    plt.xlabel('Epoch')\n",
        "    plt.ylabel('Veszteség')\n",
        "    plt.title('Betanítási Veszteség Epochok alatt')\n",
        "    plt.legend()\n",
        "    plt.show()\n",
        "\n",
        "plot_combined_training_loss(bert_losses, glove_losses, 'BERT', 'GloVe')"
      ]
    },
    {
      "cell_type": "markdown",
      "metadata": {
        "id": "a6e0VcPg9qYA"
      },
      "source": [
        "#### Prediktált valószínűségek hisztogramjának összehasonlító ábrázolása"
      ]
    },
    {
      "cell_type": "markdown",
      "metadata": {
        "id": "-Md60QiVhccV"
      },
      "source": [
        "Az alábbi ábra betekintést nyújt a modellek bizonyosságába a predikcióikban, ami lényeges lehet az alkalmazásokban, ahol a bizonyossági küszöbök fontosak, illetve segít feltárni, hogy melyik modell hogyan különbözteti meg a kategóriákat."
      ]
    },
    {
      "cell_type": "code",
      "execution_count": null,
      "metadata": {
        "id": "HI9IFcfW1kIQ",
        "colab": {
          "base_uri": "https://localhost:8080/",
          "height": 473
        },
        "outputId": "fc06a682-583e-4b56-d51a-65e465e969fb"
      },
      "outputs": [
        {
          "output_type": "display_data",
          "data": {
            "text/plain": [
              "<Figure size 640x480 with 1 Axes>"
            ],
            "image/png": "[encoded data removed]"
          },
          "metadata": {}
        }
      ],
      "source": [
        "def plot_combined_probability_histogram(probs1, probs2, name1, name2):\n",
        "    plt.figure()\n",
        "    plt.hist(probs1, bins=10, alpha=0.75, label=f'{name1} prediktált valószínűségei')  # BERT valószínűségek hisztogramja.\n",
        "    plt.hist(probs2, bins=10, alpha=0.75, label=f'{name2} prediktált valószínűségei')  # GloVe valószínűségek hisztogramja.\n",
        "    plt.title('Prediktált Valószínűségek Hisztogramja')\n",
        "    plt.xlabel('Pozitív Hangulat Valószínűsége')\n",
        "    plt.ylabel('Gyakoriság')\n",
        "    plt.legend()\n",
        "    plt.show()\n",
        "\n",
        "plot_combined_probability_histogram(bert_probs, glove_probs, 'BERT', 'GloVe')"
      ]
    },
    {
      "cell_type": "markdown",
      "metadata": {
        "id": "sezFErnE9v07"
      },
      "source": [
        "#### ROC görbe összehasonlítás"
      ]
    },
    {
      "cell_type": "markdown",
      "metadata": {
        "id": "oRTDpQHpiFw4"
      },
      "source": [
        "Ábrázoljuk a két modell Receiver Operating Characteristic (ROC) görbéit. Az ROC görbék hasznosak a bináris osztályozók diagnosztikai képességének értékelésére, ami alapvető a hangulat elemzési feladatokban. A görbe alatti terület (AUC) használható a modell teljesítményének összefoglalására, ahol az AUC közel 1.0 egy nagyon jó modellt jelent, és 0.5 egy olyan modellt, amelynek nincs megkülönböztető képessége."
      ]
    },
    {
      "cell_type": "code",
      "execution_count": null,
      "metadata": {
        "id": "Bi9xDm7v1lSt",
        "colab": {
          "base_uri": "https://localhost:8080/",
          "height": 472
        },
        "outputId": "83463302-47e9-4450-8311-0cafd1f71c64"
      },
      "outputs": [
        {
          "output_type": "display_data",
          "data": {
            "text/plain": [
              "<Figure size 640x480 with 1 Axes>"
            ],
            "image/png": "[encoded data removed]"
          },
          "metadata": {}
        }
      ],
      "source": [
        "def plot_combined_roc_curve(true_labels1, probs1, true_labels2, probs2, name1, name2):\n",
        "    fpr1, tpr1, _ = roc_curve(true_labels1, probs1)  # Hamis pozitív arány és igaz pozitív arány számítása a BERT-hez.\n",
        "    roc_auc1 = auc(fpr1, tpr1)  # A BERT ROC görbe alatti területének kiszámítása.\n",
        "    fpr2, tpr2, _ = roc_curve(true_labels2, probs2)  # Hamis pozitív arány és igaz pozitív arány számítása a GloVe-hoz.\n",
        "    roc_auc2 = auc(fpr2, tpr2)  # A GloVe ROC görbe alatti területének kiszámítása.\n",
        "\n",
        "    plt.figure()\n",
        "    plt.plot(fpr1, tpr1, label=f'{name1} ROC görbe (terület = {roc_auc1:.2f})')  # BERT ROC görbének ábrázolása.\n",
        "    plt.plot(fpr2, tpr2, label=f'{name2} ROC görbe (terület = {roc_auc2:.2f})')  # GloVe ROC görbének ábrázolása.\n",
        "    plt.plot([0, 1], [0, 1], linestyle='--', color='navy')  # Referenciavonal ábrázolása.\n",
        "    plt.xlabel('Hamis Pozitív Arány')\n",
        "    plt.ylabel('Igaz Pozitív Arány')\n",
        "    plt.title('ROC Görbék Összehasonlítása')\n",
        "    plt.legend(loc=\"lower right\")\n",
        "    plt.show()\n",
        "\n",
        "plot_combined_roc_curve(bert_labels, bert_probs, glove_labels, glove_probs, 'BERT', 'GloVe')"
      ]
    },
    {
      "cell_type": "markdown",
      "metadata": {
        "id": "rXfGd0jb9yBh"
      },
      "source": [
        "#### Konfúziós mátrix összehasonlítás"
      ]
    },
    {
      "cell_type": "markdown",
      "metadata": {
        "id": "KnKbSdfbiVoZ"
      },
      "source": [
        "A konfúziós mátrix egy olyan táblázat, amely gyakran használatos egy osztályozási modell teljesítményének leírására egy olyan tesztadathalmazon, amelynek ismertek a valódi értékei. Lehetővé teszi az algoritmus teljesítményének vizualizációját."
      ]
    },
    {
      "cell_type": "markdown",
      "metadata": {
        "id": "guZSuJy1iQBz"
      },
      "source": [
        "Az alábbi ábra segít vizualizálni, hogy hol teljesítenek jól a modellek és hol hibáznak, betekintést nyújtva a lehetséges javításokba vagy beállításokba a modell betanításában vagy az előfeldolgozásban."
      ]
    },
    {
      "cell_type": "code",
      "execution_count": null,
      "metadata": {
        "id": "ClkzUrYJ1mYr",
        "colab": {
          "base_uri": "https://localhost:8080/",
          "height": 487
        },
        "outputId": "09766a7e-1fc1-4cc8-9971-89b34f931f55"
      },
      "outputs": [
        {
          "output_type": "display_data",
          "data": {
            "text/plain": [
              "<Figure size 1200x500 with 4 Axes>"
            ],
            "image/png": "[encoded data removed]"
          },
          "metadata": {}
        }
      ],
      "source": [
        "def plot_combined_confusion_matrix(true_labels1, predictions1, true_labels2, predictions2, name1, name2):\n",
        "    fig, ax = plt.subplots(1, 2, figsize=(12, 5))  # Ábra és alábrák létrehozása.\n",
        "\n",
        "    cf_matrix1 = confusion_matrix(true_labels1, predictions1)  # BERT konfúziós mátrixának számítása.\n",
        "    sns.heatmap(cf_matrix1, annot=True, fmt='g', ax=ax[0])  # BERT konfúziós mátrixának hőtérképes ábrázolása.\n",
        "    ax[0].set_title(f'Konfúziós Mátrix {name1}-hez')  # Cím beállítása a BERT konfúziós mátrixához.\n",
        "    ax[0].set_xlabel('Prediktált')  # X-tengely címke beállítása a BERT konfúziós mátrixához.\n",
        "    ax[0].set_ylabel('Valós')  # Y-tengely címke beállítása a BERT konfúziós mátrixához.\n",
        "\n",
        "    cf_matrix2 = confusion_matrix(true_labels2, predictions2)  # GloVe konfúziós mátrixának számítása.\n",
        "    sns.heatmap(cf_matrix2, annot=True, fmt='g', ax=ax[1])  # GloVe konfúziós mátrixának hőtérképes ábrázolása.\n",
        "    ax[1].set_title(f'Konfúziós Mátrix {name2}-hoz')  # Cím beállítása a GloVe konfúziós mátrixához.\n",
        "    ax[1].set_xlabel('Prediktált')  # X-tengely címke beállítása a GloVe konfúziós mátrixához.\n",
        "    ax[1].set_ylabel('Valós')  # Y-tengely címke beállítása a GloVe konfúziós mátrixához.\n",
        "\n",
        "    plt.show()\n",
        "\n",
        "plot_combined_confusion_matrix(bert_labels, bert_preds, glove_labels, glove_preds, 'BERT', 'GloVe')"
      ]
    },
    {
      "cell_type": "markdown",
      "metadata": {
        "id": "FJaSLeWw9zrd"
      },
      "source": [
        "#### Precizitás-visszahívás görbe összehasonlítás"
      ]
    },
    {
      "cell_type": "markdown",
      "metadata": {
        "id": "9CoxjClSiiN6"
      },
      "source": [
        "A precizitás-visszahívás egy hasznos mérőszám a predikció sikerességére, amikor az osztályok nagyon egyenlőtlenül vannak elosztva. Magas terület a görbe alatt mind magas visszahívást, mind magas precizitást jelent, ahol a magas precizitás alacsony hamis pozitív arányt, a magas visszahívás pedig alacsony hamis negatív arányt jelent."
      ]
    },
    {
      "cell_type": "markdown",
      "metadata": {
        "id": "OyWC0NFqieUW"
      },
      "source": [
        "Ez az ábra betekintést nyújt a visszahívás és a precizitás közötti egyensúlyba mindkét modell esetében, segítve megérteni, hogy melyik modell teljesít jobban a precizitás és visszahívás egyensúlyának fenntartásában."
      ]
    },
    {
      "cell_type": "code",
      "execution_count": null,
      "metadata": {
        "id": "drj3VmlV0mpF",
        "colab": {
          "base_uri": "https://localhost:8080/",
          "height": 472
        },
        "outputId": "ea8495e5-e790-4ef1-c23f-77bdfbea10fa"
      },
      "outputs": [
        {
          "output_type": "display_data",
          "data": {
            "text/plain": [
              "<Figure size 640x480 with 1 Axes>"
            ],
            "image/png": "[encoded data removed]"
          },
          "metadata": {}
        }
      ],
      "source": [
        "def plot_combined_precision_recall_curve(true_labels1, probs1, true_labels2, probs2, name1, name2):\n",
        "    precision1, recall1, _ = precision_recall_curve(true_labels1, probs1)  # Precizitás és visszahívás számítása a BERT-hez.\n",
        "    precision2, recall2, _ = precision_recall_curve(true_labels2, probs2)  # Precizitás és visszahívás számítása a GloVe-hoz.\n",
        "\n",
        "    plt.figure()\n",
        "    plt.plot(recall1, precision1, label=f'{name1} Precizitás-Visszahívás görbe')  # BERT precizitás-visszahívás görbének ábrázolása.\n",
        "    plt.plot(recall2, precision2, label=f'{name2} Precizitás-Visszahívás görbe')  # GloVe precizitás-visszahívás görbének ábrázolása.\n",
        "    plt.xlabel('Visszahívás')\n",
        "    plt.ylabel('Precizitás')\n",
        "    plt.title('Precizitás-Visszahívás Görbék Összehasonlítása')\n",
        "    plt.legend()\n",
        "    plt.show()\n",
        "\n",
        "plot_combined_precision_recall_curve(bert_labels, bert_probs, glove_labels, glove_probs, 'BERT', 'GloVe')"
      ]
    },
    {
      "cell_type": "markdown",
      "metadata": {
        "id": "Ts7eo3uQantM"
      },
      "source": [
        "### 6. Tesztelés"
      ]
    },
    {
      "cell_type": "markdown",
      "metadata": {
        "id": "kiQhX5LHirnF"
      },
      "source": [
        "#### Hangulat előrejelző függvény"
      ]
    },
    {
      "cell_type": "markdown",
      "metadata": {
        "id": "0y5E3erKiveJ"
      },
      "source": [
        "Ez a függvény szövegbemenetet fogad és a megadott modell segítségével előrejelzi a hangulatot. Kezeli mind a BERT, mind a GloVe modelleket, a feldolgozást a modell típusa szerint módosítva. Ez a függvény kulcsfontosságú a betanított modellek termelési környezetben történő alkalmazásához vagy új adatokon való teszteléséhez."
      ]
    },
    {
      "cell_type": "code",
      "execution_count": null,
      "metadata": {
        "id": "ebhVWi8Laq89"
      },
      "outputs": [],
      "source": [
        "def predict_sentiment(text, model, tokenizer, device):\n",
        "    if not text.strip():\n",
        "        return \"Nincs bemenet\", 0\n",
        "    model.eval()  # Biztosítja, hogy a modell értékelési módban van, ami kikapcsolja a dropoutot és a köteg normalizációt.\n",
        "    text = text.lower()  # A szöveg kisbetűsítése a betanítási adatok előfeldolgozásával való összhang érdekében.\n",
        "    try:\n",
        "        if tokenizer:\n",
        "            tokenized = tokenizer(text, padding='max_length', truncation=True, max_length=256, return_tensors=\"pt\").to(device)  # A szöveg tokenizálása és a GPU-ra mozgatása, ha elérhető.\n",
        "            with torch.no_grad():  # Gradiensszámítás kikapcsolása.\n",
        "                output = model(tokenized['input_ids'], tokenized['attention_mask']).softmax(dim=-1)  # Modell predikcióinak megszerzése és softmax alkalmazása a valószínűségek konvertálásához.\n",
        "        else:\n",
        "            embeddings = fetch_glove_embeddings(text).unsqueeze(0).to(device)  # GloVe beágyazások lekérése és a GPU-ra mozgatása, ha elérhető.\n",
        "            with torch.no_grad():  # Gradiensszámítás kikapcsolása.\n",
        "                output = model(embeddings).softmax(dim=-1)  # Modell predikcióinak megszerzése és softmax alkalmazása a valószínűségek konvertálásához.\n",
        "        pred = torch.argmax(output, dim=1).item()  # A prediktált osztály (0 vagy 1) megszerzése.\n",
        "        certainty = output[0, pred].item()  # A prediktált osztályhoz tartozó valószínűség megszerzése.\n",
        "        sentiment = 'Pozitív' if pred == 1 else 'Negatív'\n",
        "        return sentiment, certainty * 100  # Visszaadja a hangulatot és a bizonyosságot százalékban.\n",
        "    except Exception as e:\n",
        "        return f\"Hiba: {str(e)}\", 0"
      ]
    },
    {
      "cell_type": "markdown",
      "metadata": {
        "id": "v9UaaxSRix6l"
      },
      "source": [
        "#### Hangulat előrejelző widget"
      ]
    },
    {
      "cell_type": "markdown",
      "metadata": {
        "id": "OQEbJ9Cbiz_U"
      },
      "source": [
        "Ez a widget minden szövegváltozás esetén frissíti az előrejelzéseket, lehetővé téve a modellek interaktív módon való tesztelését."
      ]
    },
    {
      "cell_type": "code",
      "execution_count": null,
      "metadata": {
        "id": "8cROTlKli2vf"
      },
      "outputs": [],
      "source": [
        "def update_output(change):\n",
        "    text_input = change.new  # Az új szöveget kapja meg a widgetből.\n",
        "    if text_input:  # Csak akkor frissít, ha a szöveg nem üres.\n",
        "        bert_sentiment, bert_certainty = predict_sentiment(text_input, bert_classifier, bert_tokenizer, device)  # Hangulat előrejelzése BERT használatával.\n",
        "        glove_sentiment, glove_certainty = predict_sentiment(text_input, glove_classifier, None, device)  # Hangulat előrejelzése GloVe használatával.\n",
        "        with output:\n",
        "            clear_output(wait=True)  # Az előző kimenet törlése.\n",
        "            print(f\"BERT: Hangulat - {bert_sentiment}, Bizonyosság - {bert_certainty:.2f}%\")  # BERT előrejelzések megjelenítése.\n",
        "            print(f\"GloVe: Hangulat - {glove_sentiment}, Bizonyosság - {glove_certainty:.2f}%\")  # GloVe előrejelzések megjelenítése."
      ]
    },
    {
      "cell_type": "markdown",
      "metadata": {
        "id": "Zv1escVli4Km"
      },
      "source": [
        "#### Widget létrehozása"
      ]
    },
    {
      "cell_type": "markdown",
      "metadata": {
        "id": "_2E_WDeoi5qt"
      },
      "source": [
        "Ez a szakasz állítja be az interaktív widgetet a hangulat előrejelzéshez. Tartalmaz egy szövegbeviteli mezőt és egy kimeneti területet, ahol megjelennek az előrejelzések."
      ]
    },
    {
      "cell_type": "code",
      "execution_count": null,
      "metadata": {
        "id": "txuaTfC4i8Cm",
        "colab": {
          "base_uri": "https://localhost:8080/",
          "height": 84,
          "referenced_widgets": [
            "9581250f6196485c9c8c54e137a6b7e5",
            "50356a18f9224e059078b42df63531d5",
            "2731c3261e28401ab99ceaac419691d0",
            "0dfb2b998dbd4af2ba1a35443afc6012",
            "cbd099897d784c21b03c02917de4bb59"
          ]
        },
        "outputId": "bf6bd0c8-00b3-4a1e-a79c-0da1e4b6c9f4"
      },
      "outputs": [
        {
          "output_type": "display_data",
          "data": {
            "text/plain": [
              "Text(value='', description='Bemenet:', placeholder='Írjon valamit ide...')"
            ],
            "application/vnd.jupyter.widget-view+json": {
              "version_major": 2,
              "version_minor": 0,
              "model_id": "9581250f6196485c9c8c54e137a6b7e5"
            }
          },
          "metadata": {}
        },
        {
          "output_type": "display_data",
          "data": {
            "text/plain": [
              "Output()"
            ],
            "application/vnd.jupyter.widget-view+json": {
              "version_major": 2,
              "version_minor": 0,
              "model_id": "0dfb2b998dbd4af2ba1a35443afc6012"
            }
          },
          "metadata": {}
        }
      ],
      "source": [
        "text_input = widgets.Text(placeholder='Írjon valamit ide...', description='Bemenet:', disabled=False)  # Szövegbeviteli widget létrehozása.\n",
        "output = widgets.Output()  # Kimeneti widget létrehozása az előrejelzések megjelenítésére.\n",
        "text_input.observe(update_output, names='value')  # Megfigyelő beállítása, hogy hívja meg az update_output függvényt, amikor a szöveg megváltozik.\n",
        "display(text_input, output)  # A widgetek megjelenítése."
      ]
    }
  ],
  "metadata": {
    "accelerator": "GPU",
    "colab": {
      "gpuType": "T4",
      "provenance": [],
      "authorship_tag": "ABX9TyOWlk61udjUuz5raNlMZMQw"
    },
    "kernelspec": {
      "display_name": "Python 3",
      "name": "python3"
    },
    "language_info": {
      "name": "python"
    },
    "widgets": {
      "application/vnd.jupyter.widget-state+json": {
        "208e9835cf3c41b5b956c9334096ca7a": {
          "model_module": "@jupyter-widgets/controls",
          "model_name": "HBoxModel",
          "model_module_version": "1.5.0",
          "state": {
            "_dom_classes": [],
            "_model_module": "@jupyter-widgets/controls",
            "_model_module_version": "1.5.0",
            "_model_name": "HBoxModel",
            "_view_count": null,
            "_view_module": "@jupyter-widgets/controls",
            "_view_module_version": "1.5.0",
            "_view_name": "HBoxView",
            "box_style": "",
            "children": [
              "IPY_MODEL_3e9721ce6c6849b1a670bdc18548f7c5",
              "IPY_MODEL_175393e50359413d92b2754a44fb5728",
              "IPY_MODEL_3dd11a206d114c89ac374567ceb2d3b3"
            ],
            "layout": "IPY_MODEL_bad9df09fe6545e4a011d101acb2a0f8"
          }
        },
        "3e9721ce6c6849b1a670bdc18548f7c5": {
          "model_module": "@jupyter-widgets/controls",
          "model_name": "HTMLModel",
          "model_module_version": "1.5.0",
          "state": {
            "_dom_classes": [],
            "_model_module": "@jupyter-widgets/controls",
            "_model_module_version": "1.5.0",
            "_model_name": "HTMLModel",
            "_view_count": null,
            "_view_module": "@jupyter-widgets/controls",
            "_view_module_version": "1.5.0",
            "_view_name": "HTMLView",
            "description": "",
            "description_tooltip": null,
            "layout": "IPY_MODEL_c746b7f70f1c4709a69de1312e3f97e6",
            "placeholder": "​",
            "style": "IPY_MODEL_828376f9995f4a3c96855e999454237c",
            "value": "tokenizer_config.json: 100%"
          }
        },
        "175393e50359413d92b2754a44fb5728": {
          "model_module": "@jupyter-widgets/controls",
          "model_name": "FloatProgressModel",
          "model_module_version": "1.5.0",
          "state": {
            "_dom_classes": [],
            "_model_module": "@jupyter-widgets/controls",
            "_model_module_version": "1.5.0",
            "_model_name": "FloatProgressModel",
            "_view_count": null,
            "_view_module": "@jupyter-widgets/controls",
            "_view_module_version": "1.5.0",
            "_view_name": "ProgressView",
            "bar_style": "success",
            "description": "",
            "description_tooltip": null,
            "layout": "IPY_MODEL_925a3835cfd2470095e13f109ec58e55",
            "max": 48,
            "min": 0,
            "orientation": "horizontal",
            "style": "IPY_MODEL_df122e0c42ad488ab54e264ebd2d4add",
            "value": 48
          }
        },
        "3dd11a206d114c89ac374567ceb2d3b3": {
          "model_module": "@jupyter-widgets/controls",
          "model_name": "HTMLModel",
          "model_module_version": "1.5.0",
          "state": {
            "_dom_classes": [],
            "_model_module": "@jupyter-widgets/controls",
            "_model_module_version": "1.5.0",
            "_model_name": "HTMLModel",
            "_view_count": null,
            "_view_module": "@jupyter-widgets/controls",
            "_view_module_version": "1.5.0",
            "_view_name": "HTMLView",
            "description": "",
            "description_tooltip": null,
            "layout": "IPY_MODEL_1f677d76268c41f897252f5293b2d844",
            "placeholder": "​",
            "style": "IPY_MODEL_7075f46062914d5fb49c9de299bb2c36",
            "value": " 48.0/48.0 [00:00&lt;00:00, 3.06kB/s]"
          }
        },
        "bad9df09fe6545e4a011d101acb2a0f8": {
          "model_module": "@jupyter-widgets/base",
          "model_name": "LayoutModel",
          "model_module_version": "1.2.0",
          "state": {
            "_model_module": "@jupyter-widgets/base",
            "_model_module_version": "1.2.0",
            "_model_name": "LayoutModel",
            "_view_count": null,
            "_view_module": "@jupyter-widgets/base",
            "_view_module_version": "1.2.0",
            "_view_name": "LayoutView",
            "align_content": null,
            "align_items": null,
            "align_self": null,
            "border": null,
            "bottom": null,
            "display": null,
            "flex": null,
            "flex_flow": null,
            "grid_area": null,
            "grid_auto_columns": null,
            "grid_auto_flow": null,
            "grid_auto_rows": null,
            "grid_column": null,
            "grid_gap": null,
            "grid_row": null,
            "grid_template_areas": null,
            "grid_template_columns": null,
            "grid_template_rows": null,
            "height": null,
            "justify_content": null,
            "justify_items": null,
            "left": null,
            "margin": null,
            "max_height": null,
            "max_width": null,
            "min_height": null,
            "min_width": null,
            "object_fit": null,
            "object_position": null,
            "order": null,
            "overflow": null,
            "overflow_x": null,
            "overflow_y": null,
            "padding": null,
            "right": null,
            "top": null,
            "visibility": null,
            "width": null
          }
        },
        "c746b7f70f1c4709a69de1312e3f97e6": {
          "model_module": "@jupyter-widgets/base",
          "model_name": "LayoutModel",
          "model_module_version": "1.2.0",
          "state": {
            "_model_module": "@jupyter-widgets/base",
            "_model_module_version": "1.2.0",
            "_model_name": "LayoutModel",
            "_view_count": null,
            "_view_module": "@jupyter-widgets/base",
            "_view_module_version": "1.2.0",
            "_view_name": "LayoutView",
            "align_content": null,
            "align_items": null,
            "align_self": null,
            "border": null,
            "bottom": null,
            "display": null,
            "flex": null,
            "flex_flow": null,
            "grid_area": null,
            "grid_auto_columns": null,
            "grid_auto_flow": null,
            "grid_auto_rows": null,
            "grid_column": null,
            "grid_gap": null,
            "grid_row": null,
            "grid_template_areas": null,
            "grid_template_columns": null,
            "grid_template_rows": null,
            "height": null,
            "justify_content": null,
            "justify_items": null,
            "left": null,
            "margin": null,
            "max_height": null,
            "max_width": null,
            "min_height": null,
            "min_width": null,
            "object_fit": null,
            "object_position": null,
            "order": null,
            "overflow": null,
            "overflow_x": null,
            "overflow_y": null,
            "padding": null,
            "right": null,
            "top": null,
            "visibility": null,
            "width": null
          }
        },
        "828376f9995f4a3c96855e999454237c": {
          "model_module": "@jupyter-widgets/controls",
          "model_name": "DescriptionStyleModel",
          "model_module_version": "1.5.0",
          "state": {
            "_model_module": "@jupyter-widgets/controls",
            "_model_module_version": "1.5.0",
            "_model_name": "DescriptionStyleModel",
            "_view_count": null,
            "_view_module": "@jupyter-widgets/base",
            "_view_module_version": "1.2.0",
            "_view_name": "StyleView",
            "description_width": ""
          }
        },
        "925a3835cfd2470095e13f109ec58e55": {
          "model_module": "@jupyter-widgets/base",
          "model_name": "LayoutModel",
          "model_module_version": "1.2.0",
          "state": {
            "_model_module": "@jupyter-widgets/base",
            "_model_module_version": "1.2.0",
            "_model_name": "LayoutModel",
            "_view_count": null,
            "_view_module": "@jupyter-widgets/base",
            "_view_module_version": "1.2.0",
            "_view_name": "LayoutView",
            "align_content": null,
            "align_items": null,
            "align_self": null,
            "border": null,
            "bottom": null,
            "display": null,
            "flex": null,
            "flex_flow": null,
            "grid_area": null,
            "grid_auto_columns": null,
            "grid_auto_flow": null,
            "grid_auto_rows": null,
            "grid_column": null,
            "grid_gap": null,
            "grid_row": null,
            "grid_template_areas": null,
            "grid_template_columns": null,
            "grid_template_rows": null,
            "height": null,
            "justify_content": null,
            "justify_items": null,
            "left": null,
            "margin": null,
            "max_height": null,
            "max_width": null,
            "min_height": null,
            "min_width": null,
            "object_fit": null,
            "object_position": null,
            "order": null,
            "overflow": null,
            "overflow_x": null,
            "overflow_y": null,
            "padding": null,
            "right": null,
            "top": null,
            "visibility": null,
            "width": null
          }
        },
        "df122e0c42ad488ab54e264ebd2d4add": {
          "model_module": "@jupyter-widgets/controls",
          "model_name": "ProgressStyleModel",
          "model_module_version": "1.5.0",
          "state": {
            "_model_module": "@jupyter-widgets/controls",
            "_model_module_version": "1.5.0",
            "_model_name": "ProgressStyleModel",
            "_view_count": null,
            "_view_module": "@jupyter-widgets/base",
            "_view_module_version": "1.2.0",
            "_view_name": "StyleView",
            "bar_color": null,
            "description_width": ""
          }
        },
        "1f677d76268c41f897252f5293b2d844": {
          "model_module": "@jupyter-widgets/base",
          "model_name": "LayoutModel",
          "model_module_version": "1.2.0",
          "state": {
            "_model_module": "@jupyter-widgets/base",
            "_model_module_version": "1.2.0",
            "_model_name": "LayoutModel",
            "_view_count": null,
            "_view_module": "@jupyter-widgets/base",
            "_view_module_version": "1.2.0",
            "_view_name": "LayoutView",
            "align_content": null,
            "align_items": null,
            "align_self": null,
            "border": null,
            "bottom": null,
            "display": null,
            "flex": null,
            "flex_flow": null,
            "grid_area": null,
            "grid_auto_columns": null,
            "grid_auto_flow": null,
            "grid_auto_rows": null,
            "grid_column": null,
            "grid_gap": null,
            "grid_row": null,
            "grid_template_areas": null,
            "grid_template_columns": null,
            "grid_template_rows": null,
            "height": null,
            "justify_content": null,
            "justify_items": null,
            "left": null,
            "margin": null,
            "max_height": null,
            "max_width": null,
            "min_height": null,
            "min_width": null,
            "object_fit": null,
            "object_position": null,
            "order": null,
            "overflow": null,
            "overflow_x": null,
            "overflow_y": null,
            "padding": null,
            "right": null,
            "top": null,
            "visibility": null,
            "width": null
          }
        },
        "7075f46062914d5fb49c9de299bb2c36": {
          "model_module": "@jupyter-widgets/controls",
          "model_name": "DescriptionStyleModel",
          "model_module_version": "1.5.0",
          "state": {
            "_model_module": "@jupyter-widgets/controls",
            "_model_module_version": "1.5.0",
            "_model_name": "DescriptionStyleModel",
            "_view_count": null,
            "_view_module": "@jupyter-widgets/base",
            "_view_module_version": "1.2.0",
            "_view_name": "StyleView",
            "description_width": ""
          }
        },
        "b49ce590cf4741c89603215eb65ec7f0": {
          "model_module": "@jupyter-widgets/controls",
          "model_name": "HBoxModel",
          "model_module_version": "1.5.0",
          "state": {
            "_dom_classes": [],
            "_model_module": "@jupyter-widgets/controls",
            "_model_module_version": "1.5.0",
            "_model_name": "HBoxModel",
            "_view_count": null,
            "_view_module": "@jupyter-widgets/controls",
            "_view_module_version": "1.5.0",
            "_view_name": "HBoxView",
            "box_style": "",
            "children": [
              "IPY_MODEL_e2d9e2f43e8d4723a1240a11090edb7f",
              "IPY_MODEL_6791f7b821f943d9be183d92dc0942b9",
              "IPY_MODEL_bd67475d8e40484b921e5757fd61434e"
            ],
            "layout": "IPY_MODEL_b407ddea70844981b134bd59bfb9828b"
          }
        },
        "e2d9e2f43e8d4723a1240a11090edb7f": {
          "model_module": "@jupyter-widgets/controls",
          "model_name": "HTMLModel",
          "model_module_version": "1.5.0",
          "state": {
            "_dom_classes": [],
            "_model_module": "@jupyter-widgets/controls",
            "_model_module_version": "1.5.0",
            "_model_name": "HTMLModel",
            "_view_count": null,
            "_view_module": "@jupyter-widgets/controls",
            "_view_module_version": "1.5.0",
            "_view_name": "HTMLView",
            "description": "",
            "description_tooltip": null,
            "layout": "IPY_MODEL_d02fee15307b4a54a7a7ae5ddee39945",
            "placeholder": "​",
            "style": "IPY_MODEL_b2308a60854d4074a934d6d70707011e",
            "value": "vocab.txt: 100%"
          }
        },
        "6791f7b821f943d9be183d92dc0942b9": {
          "model_module": "@jupyter-widgets/controls",
          "model_name": "FloatProgressModel",
          "model_module_version": "1.5.0",
          "state": {
            "_dom_classes": [],
            "_model_module": "@jupyter-widgets/controls",
            "_model_module_version": "1.5.0",
            "_model_name": "FloatProgressModel",
            "_view_count": null,
            "_view_module": "@jupyter-widgets/controls",
            "_view_module_version": "1.5.0",
            "_view_name": "ProgressView",
            "bar_style": "success",
            "description": "",
            "description_tooltip": null,
            "layout": "IPY_MODEL_9b7527cdf74048dcb04a57a862833d0c",
            "max": 231508,
            "min": 0,
            "orientation": "horizontal",
            "style": "IPY_MODEL_f8f4d82d449644bdb625905aefef3e8a",
            "value": 231508
          }
        },
        "bd67475d8e40484b921e5757fd61434e": {
          "model_module": "@jupyter-widgets/controls",
          "model_name": "HTMLModel",
          "model_module_version": "1.5.0",
          "state": {
            "_dom_classes": [],
            "_model_module": "@jupyter-widgets/controls",
            "_model_module_version": "1.5.0",
            "_model_name": "HTMLModel",
            "_view_count": null,
            "_view_module": "@jupyter-widgets/controls",
            "_view_module_version": "1.5.0",
            "_view_name": "HTMLView",
            "description": "",
            "description_tooltip": null,
            "layout": "IPY_MODEL_a503e093e08c43fe9e1e0acf803bfb98",
            "placeholder": "​",
            "style": "IPY_MODEL_52844f3b9a2f4395b2d5d2fb4a82b166",
            "value": " 232k/232k [00:00&lt;00:00, 1.86MB/s]"
          }
        },
        "b407ddea70844981b134bd59bfb9828b": {
          "model_module": "@jupyter-widgets/base",
          "model_name": "LayoutModel",
          "model_module_version": "1.2.0",
          "state": {
            "_model_module": "@jupyter-widgets/base",
            "_model_module_version": "1.2.0",
            "_model_name": "LayoutModel",
            "_view_count": null,
            "_view_module": "@jupyter-widgets/base",
            "_view_module_version": "1.2.0",
            "_view_name": "LayoutView",
            "align_content": null,
            "align_items": null,
            "align_self": null,
            "border": null,
            "bottom": null,
            "display": null,
            "flex": null,
            "flex_flow": null,
            "grid_area": null,
            "grid_auto_columns": null,
            "grid_auto_flow": null,
            "grid_auto_rows": null,
            "grid_column": null,
            "grid_gap": null,
            "grid_row": null,
            "grid_template_areas": null,
            "grid_template_columns": null,
            "grid_template_rows": null,
            "height": null,
            "justify_content": null,
            "justify_items": null,
            "left": null,
            "margin": null,
            "max_height": null,
            "max_width": null,
            "min_height": null,
            "min_width": null,
            "object_fit": null,
            "object_position": null,
            "order": null,
            "overflow": null,
            "overflow_x": null,
            "overflow_y": null,
            "padding": null,
            "right": null,
            "top": null,
            "visibility": null,
            "width": null
          }
        },
        "d02fee15307b4a54a7a7ae5ddee39945": {
          "model_module": "@jupyter-widgets/base",
          "model_name": "LayoutModel",
          "model_module_version": "1.2.0",
          "state": {
            "_model_module": "@jupyter-widgets/base",
            "_model_module_version": "1.2.0",
            "_model_name": "LayoutModel",
            "_view_count": null,
            "_view_module": "@jupyter-widgets/base",
            "_view_module_version": "1.2.0",
            "_view_name": "LayoutView",
            "align_content": null,
            "align_items": null,
            "align_self": null,
            "border": null,
            "bottom": null,
            "display": null,
            "flex": null,
            "flex_flow": null,
            "grid_area": null,
            "grid_auto_columns": null,
            "grid_auto_flow": null,
            "grid_auto_rows": null,
            "grid_column": null,
            "grid_gap": null,
            "grid_row": null,
            "grid_template_areas": null,
            "grid_template_columns": null,
            "grid_template_rows": null,
            "height": null,
            "justify_content": null,
            "justify_items": null,
            "left": null,
            "margin": null,
            "max_height": null,
            "max_width": null,
            "min_height": null,
            "min_width": null,
            "object_fit": null,
            "object_position": null,
            "order": null,
            "overflow": null,
            "overflow_x": null,
            "overflow_y": null,
            "padding": null,
            "right": null,
            "top": null,
            "visibility": null,
            "width": null
          }
        },
        "b2308a60854d4074a934d6d70707011e": {
          "model_module": "@jupyter-widgets/controls",
          "model_name": "DescriptionStyleModel",
          "model_module_version": "1.5.0",
          "state": {
            "_model_module": "@jupyter-widgets/controls",
            "_model_module_version": "1.5.0",
            "_model_name": "DescriptionStyleModel",
            "_view_count": null,
            "_view_module": "@jupyter-widgets/base",
            "_view_module_version": "1.2.0",
            "_view_name": "StyleView",
            "description_width": ""
          }
        },
        "9b7527cdf74048dcb04a57a862833d0c": {
          "model_module": "@jupyter-widgets/base",
          "model_name": "LayoutModel",
          "model_module_version": "1.2.0",
          "state": {
            "_model_module": "@jupyter-widgets/base",
            "_model_module_version": "1.2.0",
            "_model_name": "LayoutModel",
            "_view_count": null,
            "_view_module": "@jupyter-widgets/base",
            "_view_module_version": "1.2.0",
            "_view_name": "LayoutView",
            "align_content": null,
            "align_items": null,
            "align_self": null,
            "border": null,
            "bottom": null,
            "display": null,
            "flex": null,
            "flex_flow": null,
            "grid_area": null,
            "grid_auto_columns": null,
            "grid_auto_flow": null,
            "grid_auto_rows": null,
            "grid_column": null,
            "grid_gap": null,
            "grid_row": null,
            "grid_template_areas": null,
            "grid_template_columns": null,
            "grid_template_rows": null,
            "height": null,
            "justify_content": null,
            "justify_items": null,
            "left": null,
            "margin": null,
            "max_height": null,
            "max_width": null,
            "min_height": null,
            "min_width": null,
            "object_fit": null,
            "object_position": null,
            "order": null,
            "overflow": null,
            "overflow_x": null,
            "overflow_y": null,
            "padding": null,
            "right": null,
            "top": null,
            "visibility": null,
            "width": null
          }
        },
        "f8f4d82d449644bdb625905aefef3e8a": {
          "model_module": "@jupyter-widgets/controls",
          "model_name": "ProgressStyleModel",
          "model_module_version": "1.5.0",
          "state": {
            "_model_module": "@jupyter-widgets/controls",
            "_model_module_version": "1.5.0",
            "_model_name": "ProgressStyleModel",
            "_view_count": null,
            "_view_module": "@jupyter-widgets/base",
            "_view_module_version": "1.2.0",
            "_view_name": "StyleView",
            "bar_color": null,
            "description_width": ""
          }
        },
        "a503e093e08c43fe9e1e0acf803bfb98": {
          "model_module": "@jupyter-widgets/base",
          "model_name": "LayoutModel",
          "model_module_version": "1.2.0",
          "state": {
            "_model_module": "@jupyter-widgets/base",
            "_model_module_version": "1.2.0",
            "_model_name": "LayoutModel",
            "_view_count": null,
            "_view_module": "@jupyter-widgets/base",
            "_view_module_version": "1.2.0",
            "_view_name": "LayoutView",
            "align_content": null,
            "align_items": null,
            "align_self": null,
            "border": null,
            "bottom": null,
            "display": null,
            "flex": null,
            "flex_flow": null,
            "grid_area": null,
            "grid_auto_columns": null,
            "grid_auto_flow": null,
            "grid_auto_rows": null,
            "grid_column": null,
            "grid_gap": null,
            "grid_row": null,
            "grid_template_areas": null,
            "grid_template_columns": null,
            "grid_template_rows": null,
            "height": null,
            "justify_content": null,
            "justify_items": null,
            "left": null,
            "margin": null,
            "max_height": null,
            "max_width": null,
            "min_height": null,
            "min_width": null,
            "object_fit": null,
            "object_position": null,
            "order": null,
            "overflow": null,
            "overflow_x": null,
            "overflow_y": null,
            "padding": null,
            "right": null,
            "top": null,
            "visibility": null,
            "width": null
          }
        },
        "52844f3b9a2f4395b2d5d2fb4a82b166": {
          "model_module": "@jupyter-widgets/controls",
          "model_name": "DescriptionStyleModel",
          "model_module_version": "1.5.0",
          "state": {
            "_model_module": "@jupyter-widgets/controls",
            "_model_module_version": "1.5.0",
            "_model_name": "DescriptionStyleModel",
            "_view_count": null,
            "_view_module": "@jupyter-widgets/base",
            "_view_module_version": "1.2.0",
            "_view_name": "StyleView",
            "description_width": ""
          }
        },
        "3e89ae3b68244b7a8d7cda43e6df75ad": {
          "model_module": "@jupyter-widgets/controls",
          "model_name": "HBoxModel",
          "model_module_version": "1.5.0",
          "state": {
            "_dom_classes": [],
            "_model_module": "@jupyter-widgets/controls",
            "_model_module_version": "1.5.0",
            "_model_name": "HBoxModel",
            "_view_count": null,
            "_view_module": "@jupyter-widgets/controls",
            "_view_module_version": "1.5.0",
            "_view_name": "HBoxView",
            "box_style": "",
            "children": [
              "IPY_MODEL_638d9d526ba044c4a5a8757292883668",
              "IPY_MODEL_f0f7c799a3b94fd08fc7ba279bbe27a7",
              "IPY_MODEL_7df303c39ded4f1b91f508287427c5ee"
            ],
            "layout": "IPY_MODEL_0d5d31fd3bf2407b8bdda6a0fde258a6"
          }
        },
        "638d9d526ba044c4a5a8757292883668": {
          "model_module": "@jupyter-widgets/controls",
          "model_name": "HTMLModel",
          "model_module_version": "1.5.0",
          "state": {
            "_dom_classes": [],
            "_model_module": "@jupyter-widgets/controls",
            "_model_module_version": "1.5.0",
            "_model_name": "HTMLModel",
            "_view_count": null,
            "_view_module": "@jupyter-widgets/controls",
            "_view_module_version": "1.5.0",
            "_view_name": "HTMLView",
            "description": "",
            "description_tooltip": null,
            "layout": "IPY_MODEL_27b9b809fa4749309ce15b373282e9ae",
            "placeholder": "​",
            "style": "IPY_MODEL_c0656be812474ae99b856c8adfc758f8",
            "value": "tokenizer.json: 100%"
          }
        },
        "f0f7c799a3b94fd08fc7ba279bbe27a7": {
          "model_module": "@jupyter-widgets/controls",
          "model_name": "FloatProgressModel",
          "model_module_version": "1.5.0",
          "state": {
            "_dom_classes": [],
            "_model_module": "@jupyter-widgets/controls",
            "_model_module_version": "1.5.0",
            "_model_name": "FloatProgressModel",
            "_view_count": null,
            "_view_module": "@jupyter-widgets/controls",
            "_view_module_version": "1.5.0",
            "_view_name": "ProgressView",
            "bar_style": "success",
            "description": "",
            "description_tooltip": null,
            "layout": "IPY_MODEL_759dd814744647de8a6dccb8957b9f5e",
            "max": 466062,
            "min": 0,
            "orientation": "horizontal",
            "style": "IPY_MODEL_06e20122600043488ca34fe9b5541533",
            "value": 466062
          }
        },
        "7df303c39ded4f1b91f508287427c5ee": {
          "model_module": "@jupyter-widgets/controls",
          "model_name": "HTMLModel",
          "model_module_version": "1.5.0",
          "state": {
            "_dom_classes": [],
            "_model_module": "@jupyter-widgets/controls",
            "_model_module_version": "1.5.0",
            "_model_name": "HTMLModel",
            "_view_count": null,
            "_view_module": "@jupyter-widgets/controls",
            "_view_module_version": "1.5.0",
            "_view_name": "HTMLView",
            "description": "",
            "description_tooltip": null,
            "layout": "IPY_MODEL_893d3f7961c14d039cde3b83428266d5",
            "placeholder": "​",
            "style": "IPY_MODEL_6a8bff07532a4913bdc3ca42e63d49d0",
            "value": " 466k/466k [00:00&lt;00:00, 2.46MB/s]"
          }
        },
        "0d5d31fd3bf2407b8bdda6a0fde258a6": {
          "model_module": "@jupyter-widgets/base",
          "model_name": "LayoutModel",
          "model_module_version": "1.2.0",
          "state": {
            "_model_module": "@jupyter-widgets/base",
            "_model_module_version": "1.2.0",
            "_model_name": "LayoutModel",
            "_view_count": null,
            "_view_module": "@jupyter-widgets/base",
            "_view_module_version": "1.2.0",
            "_view_name": "LayoutView",
            "align_content": null,
            "align_items": null,
            "align_self": null,
            "border": null,
            "bottom": null,
            "display": null,
            "flex": null,
            "flex_flow": null,
            "grid_area": null,
            "grid_auto_columns": null,
            "grid_auto_flow": null,
            "grid_auto_rows": null,
            "grid_column": null,
            "grid_gap": null,
            "grid_row": null,
            "grid_template_areas": null,
            "grid_template_columns": null,
            "grid_template_rows": null,
            "height": null,
            "justify_content": null,
            "justify_items": null,
            "left": null,
            "margin": null,
            "max_height": null,
            "max_width": null,
            "min_height": null,
            "min_width": null,
            "object_fit": null,
            "object_position": null,
            "order": null,
            "overflow": null,
            "overflow_x": null,
            "overflow_y": null,
            "padding": null,
            "right": null,
            "top": null,
            "visibility": null,
            "width": null
          }
        },
        "27b9b809fa4749309ce15b373282e9ae": {
          "model_module": "@jupyter-widgets/base",
          "model_name": "LayoutModel",
          "model_module_version": "1.2.0",
          "state": {
            "_model_module": "@jupyter-widgets/base",
            "_model_module_version": "1.2.0",
            "_model_name": "LayoutModel",
            "_view_count": null,
            "_view_module": "@jupyter-widgets/base",
            "_view_module_version": "1.2.0",
            "_view_name": "LayoutView",
            "align_content": null,
            "align_items": null,
            "align_self": null,
            "border": null,
            "bottom": null,
            "display": null,
            "flex": null,
            "flex_flow": null,
            "grid_area": null,
            "grid_auto_columns": null,
            "grid_auto_flow": null,
            "grid_auto_rows": null,
            "grid_column": null,
            "grid_gap": null,
            "grid_row": null,
            "grid_template_areas": null,
            "grid_template_columns": null,
            "grid_template_rows": null,
            "height": null,
            "justify_content": null,
            "justify_items": null,
            "left": null,
            "margin": null,
            "max_height": null,
            "max_width": null,
            "min_height": null,
            "min_width": null,
            "object_fit": null,
            "object_position": null,
            "order": null,
            "overflow": null,
            "overflow_x": null,
            "overflow_y": null,
            "padding": null,
            "right": null,
            "top": null,
            "visibility": null,
            "width": null
          }
        },
        "c0656be812474ae99b856c8adfc758f8": {
          "model_module": "@jupyter-widgets/controls",
          "model_name": "DescriptionStyleModel",
          "model_module_version": "1.5.0",
          "state": {
            "_model_module": "@jupyter-widgets/controls",
            "_model_module_version": "1.5.0",
            "_model_name": "DescriptionStyleModel",
            "_view_count": null,
            "_view_module": "@jupyter-widgets/base",
            "_view_module_version": "1.2.0",
            "_view_name": "StyleView",
            "description_width": ""
          }
        },
        "759dd814744647de8a6dccb8957b9f5e": {
          "model_module": "@jupyter-widgets/base",
          "model_name": "LayoutModel",
          "model_module_version": "1.2.0",
          "state": {
            "_model_module": "@jupyter-widgets/base",
            "_model_module_version": "1.2.0",
            "_model_name": "LayoutModel",
            "_view_count": null,
            "_view_module": "@jupyter-widgets/base",
            "_view_module_version": "1.2.0",
            "_view_name": "LayoutView",
            "align_content": null,
            "align_items": null,
            "align_self": null,
            "border": null,
            "bottom": null,
            "display": null,
            "flex": null,
            "flex_flow": null,
            "grid_area": null,
            "grid_auto_columns": null,
            "grid_auto_flow": null,
            "grid_auto_rows": null,
            "grid_column": null,
            "grid_gap": null,
            "grid_row": null,
            "grid_template_areas": null,
            "grid_template_columns": null,
            "grid_template_rows": null,
            "height": null,
            "justify_content": null,
            "justify_items": null,
            "left": null,
            "margin": null,
            "max_height": null,
            "max_width": null,
            "min_height": null,
            "min_width": null,
            "object_fit": null,
            "object_position": null,
            "order": null,
            "overflow": null,
            "overflow_x": null,
            "overflow_y": null,
            "padding": null,
            "right": null,
            "top": null,
            "visibility": null,
            "width": null
          }
        },
        "06e20122600043488ca34fe9b5541533": {
          "model_module": "@jupyter-widgets/controls",
          "model_name": "ProgressStyleModel",
          "model_module_version": "1.5.0",
          "state": {
            "_model_module": "@jupyter-widgets/controls",
            "_model_module_version": "1.5.0",
            "_model_name": "ProgressStyleModel",
            "_view_count": null,
            "_view_module": "@jupyter-widgets/base",
            "_view_module_version": "1.2.0",
            "_view_name": "StyleView",
            "bar_color": null,
            "description_width": ""
          }
        },
        "893d3f7961c14d039cde3b83428266d5": {
          "model_module": "@jupyter-widgets/base",
          "model_name": "LayoutModel",
          "model_module_version": "1.2.0",
          "state": {
            "_model_module": "@jupyter-widgets/base",
            "_model_module_version": "1.2.0",
            "_model_name": "LayoutModel",
            "_view_count": null,
            "_view_module": "@jupyter-widgets/base",
            "_view_module_version": "1.2.0",
            "_view_name": "LayoutView",
            "align_content": null,
            "align_items": null,
            "align_self": null,
            "border": null,
            "bottom": null,
            "display": null,
            "flex": null,
            "flex_flow": null,
            "grid_area": null,
            "grid_auto_columns": null,
            "grid_auto_flow": null,
            "grid_auto_rows": null,
            "grid_column": null,
            "grid_gap": null,
            "grid_row": null,
            "grid_template_areas": null,
            "grid_template_columns": null,
            "grid_template_rows": null,
            "height": null,
            "justify_content": null,
            "justify_items": null,
            "left": null,
            "margin": null,
            "max_height": null,
            "max_width": null,
            "min_height": null,
            "min_width": null,
            "object_fit": null,
            "object_position": null,
            "order": null,
            "overflow": null,
            "overflow_x": null,
            "overflow_y": null,
            "padding": null,
            "right": null,
            "top": null,
            "visibility": null,
            "width": null
          }
        },
        "6a8bff07532a4913bdc3ca42e63d49d0": {
          "model_module": "@jupyter-widgets/controls",
          "model_name": "DescriptionStyleModel",
          "model_module_version": "1.5.0",
          "state": {
            "_model_module": "@jupyter-widgets/controls",
            "_model_module_version": "1.5.0",
            "_model_name": "DescriptionStyleModel",
            "_view_count": null,
            "_view_module": "@jupyter-widgets/base",
            "_view_module_version": "1.2.0",
            "_view_name": "StyleView",
            "description_width": ""
          }
        },
        "d624f2ff0cd646648808da8c51024566": {
          "model_module": "@jupyter-widgets/controls",
          "model_name": "HBoxModel",
          "model_module_version": "1.5.0",
          "state": {
            "_dom_classes": [],
            "_model_module": "@jupyter-widgets/controls",
            "_model_module_version": "1.5.0",
            "_model_name": "HBoxModel",
            "_view_count": null,
            "_view_module": "@jupyter-widgets/controls",
            "_view_module_version": "1.5.0",
            "_view_name": "HBoxView",
            "box_style": "",
            "children": [
              "IPY_MODEL_29f33fa276b840d38fde244ff82bff3f",
              "IPY_MODEL_e39c4603bf5242c2a273143137bf6cd5",
              "IPY_MODEL_bda6f10bf8794355ae1f5a9742c7456a"
            ],
            "layout": "IPY_MODEL_b8ee4bb52ccc4cf393d3df1bc3b6afe6"
          }
        },
        "29f33fa276b840d38fde244ff82bff3f": {
          "model_module": "@jupyter-widgets/controls",
          "model_name": "HTMLModel",
          "model_module_version": "1.5.0",
          "state": {
            "_dom_classes": [],
            "_model_module": "@jupyter-widgets/controls",
            "_model_module_version": "1.5.0",
            "_model_name": "HTMLModel",
            "_view_count": null,
            "_view_module": "@jupyter-widgets/controls",
            "_view_module_version": "1.5.0",
            "_view_name": "HTMLView",
            "description": "",
            "description_tooltip": null,
            "layout": "IPY_MODEL_7f44911b10564c69afd60e8cfba47ea7",
            "placeholder": "​",
            "style": "IPY_MODEL_6c4ff27e34b44e2a8d67c2ff38091355",
            "value": "config.json: 100%"
          }
        },
        "e39c4603bf5242c2a273143137bf6cd5": {
          "model_module": "@jupyter-widgets/controls",
          "model_name": "FloatProgressModel",
          "model_module_version": "1.5.0",
          "state": {
            "_dom_classes": [],
            "_model_module": "@jupyter-widgets/controls",
            "_model_module_version": "1.5.0",
            "_model_name": "FloatProgressModel",
            "_view_count": null,
            "_view_module": "@jupyter-widgets/controls",
            "_view_module_version": "1.5.0",
            "_view_name": "ProgressView",
            "bar_style": "success",
            "description": "",
            "description_tooltip": null,
            "layout": "IPY_MODEL_c8a8775207174d59ad1943fd627a1a81",
            "max": 570,
            "min": 0,
            "orientation": "horizontal",
            "style": "IPY_MODEL_40bfe34675084b1187947b4d0fb3ce31",
            "value": 570
          }
        },
        "bda6f10bf8794355ae1f5a9742c7456a": {
          "model_module": "@jupyter-widgets/controls",
          "model_name": "HTMLModel",
          "model_module_version": "1.5.0",
          "state": {
            "_dom_classes": [],
            "_model_module": "@jupyter-widgets/controls",
            "_model_module_version": "1.5.0",
            "_model_name": "HTMLModel",
            "_view_count": null,
            "_view_module": "@jupyter-widgets/controls",
            "_view_module_version": "1.5.0",
            "_view_name": "HTMLView",
            "description": "",
            "description_tooltip": null,
            "layout": "IPY_MODEL_6de568cd9fcd4803ac22fe526fbbceaa",
            "placeholder": "​",
            "style": "IPY_MODEL_caeab44bcd2e4ab1a93618f63dd7b50b",
            "value": " 570/570 [00:00&lt;00:00, 41.2kB/s]"
          }
        },
        "b8ee4bb52ccc4cf393d3df1bc3b6afe6": {
          "model_module": "@jupyter-widgets/base",
          "model_name": "LayoutModel",
          "model_module_version": "1.2.0",
          "state": {
            "_model_module": "@jupyter-widgets/base",
            "_model_module_version": "1.2.0",
            "_model_name": "LayoutModel",
            "_view_count": null,
            "_view_module": "@jupyter-widgets/base",
            "_view_module_version": "1.2.0",
            "_view_name": "LayoutView",
            "align_content": null,
            "align_items": null,
            "align_self": null,
            "border": null,
            "bottom": null,
            "display": null,
            "flex": null,
            "flex_flow": null,
            "grid_area": null,
            "grid_auto_columns": null,
            "grid_auto_flow": null,
            "grid_auto_rows": null,
            "grid_column": null,
            "grid_gap": null,
            "grid_row": null,
            "grid_template_areas": null,
            "grid_template_columns": null,
            "grid_template_rows": null,
            "height": null,
            "justify_content": null,
            "justify_items": null,
            "left": null,
            "margin": null,
            "max_height": null,
            "max_width": null,
            "min_height": null,
            "min_width": null,
            "object_fit": null,
            "object_position": null,
            "order": null,
            "overflow": null,
            "overflow_x": null,
            "overflow_y": null,
            "padding": null,
            "right": null,
            "top": null,
            "visibility": null,
            "width": null
          }
        },
        "7f44911b10564c69afd60e8cfba47ea7": {
          "model_module": "@jupyter-widgets/base",
          "model_name": "LayoutModel",
          "model_module_version": "1.2.0",
          "state": {
            "_model_module": "@jupyter-widgets/base",
            "_model_module_version": "1.2.0",
            "_model_name": "LayoutModel",
            "_view_count": null,
            "_view_module": "@jupyter-widgets/base",
            "_view_module_version": "1.2.0",
            "_view_name": "LayoutView",
            "align_content": null,
            "align_items": null,
            "align_self": null,
            "border": null,
            "bottom": null,
            "display": null,
            "flex": null,
            "flex_flow": null,
            "grid_area": null,
            "grid_auto_columns": null,
            "grid_auto_flow": null,
            "grid_auto_rows": null,
            "grid_column": null,
            "grid_gap": null,
            "grid_row": null,
            "grid_template_areas": null,
            "grid_template_columns": null,
            "grid_template_rows": null,
            "height": null,
            "justify_content": null,
            "justify_items": null,
            "left": null,
            "margin": null,
            "max_height": null,
            "max_width": null,
            "min_height": null,
            "min_width": null,
            "object_fit": null,
            "object_position": null,
            "order": null,
            "overflow": null,
            "overflow_x": null,
            "overflow_y": null,
            "padding": null,
            "right": null,
            "top": null,
            "visibility": null,
            "width": null
          }
        },
        "6c4ff27e34b44e2a8d67c2ff38091355": {
          "model_module": "@jupyter-widgets/controls",
          "model_name": "DescriptionStyleModel",
          "model_module_version": "1.5.0",
          "state": {
            "_model_module": "@jupyter-widgets/controls",
            "_model_module_version": "1.5.0",
            "_model_name": "DescriptionStyleModel",
            "_view_count": null,
            "_view_module": "@jupyter-widgets/base",
            "_view_module_version": "1.2.0",
            "_view_name": "StyleView",
            "description_width": ""
          }
        },
        "c8a8775207174d59ad1943fd627a1a81": {
          "model_module": "@jupyter-widgets/base",
          "model_name": "LayoutModel",
          "model_module_version": "1.2.0",
          "state": {
            "_model_module": "@jupyter-widgets/base",
            "_model_module_version": "1.2.0",
            "_model_name": "LayoutModel",
            "_view_count": null,
            "_view_module": "@jupyter-widgets/base",
            "_view_module_version": "1.2.0",
            "_view_name": "LayoutView",
            "align_content": null,
            "align_items": null,
            "align_self": null,
            "border": null,
            "bottom": null,
            "display": null,
            "flex": null,
            "flex_flow": null,
            "grid_area": null,
            "grid_auto_columns": null,
            "grid_auto_flow": null,
            "grid_auto_rows": null,
            "grid_column": null,
            "grid_gap": null,
            "grid_row": null,
            "grid_template_areas": null,
            "grid_template_columns": null,
            "grid_template_rows": null,
            "height": null,
            "justify_content": null,
            "justify_items": null,
            "left": null,
            "margin": null,
            "max_height": null,
            "max_width": null,
            "min_height": null,
            "min_width": null,
            "object_fit": null,
            "object_position": null,
            "order": null,
            "overflow": null,
            "overflow_x": null,
            "overflow_y": null,
            "padding": null,
            "right": null,
            "top": null,
            "visibility": null,
            "width": null
          }
        },
        "40bfe34675084b1187947b4d0fb3ce31": {
          "model_module": "@jupyter-widgets/controls",
          "model_name": "ProgressStyleModel",
          "model_module_version": "1.5.0",
          "state": {
            "_model_module": "@jupyter-widgets/controls",
            "_model_module_version": "1.5.0",
            "_model_name": "ProgressStyleModel",
            "_view_count": null,
            "_view_module": "@jupyter-widgets/base",
            "_view_module_version": "1.2.0",
            "_view_name": "StyleView",
            "bar_color": null,
            "description_width": ""
          }
        },
        "6de568cd9fcd4803ac22fe526fbbceaa": {
          "model_module": "@jupyter-widgets/base",
          "model_name": "LayoutModel",
          "model_module_version": "1.2.0",
          "state": {
            "_model_module": "@jupyter-widgets/base",
            "_model_module_version": "1.2.0",
            "_model_name": "LayoutModel",
            "_view_count": null,
            "_view_module": "@jupyter-widgets/base",
            "_view_module_version": "1.2.0",
            "_view_name": "LayoutView",
            "align_content": null,
            "align_items": null,
            "align_self": null,
            "border": null,
            "bottom": null,
            "display": null,
            "flex": null,
            "flex_flow": null,
            "grid_area": null,
            "grid_auto_columns": null,
            "grid_auto_flow": null,
            "grid_auto_rows": null,
            "grid_column": null,
            "grid_gap": null,
            "grid_row": null,
            "grid_template_areas": null,
            "grid_template_columns": null,
            "grid_template_rows": null,
            "height": null,
            "justify_content": null,
            "justify_items": null,
            "left": null,
            "margin": null,
            "max_height": null,
            "max_width": null,
            "min_height": null,
            "min_width": null,
            "object_fit": null,
            "object_position": null,
            "order": null,
            "overflow": null,
            "overflow_x": null,
            "overflow_y": null,
            "padding": null,
            "right": null,
            "top": null,
            "visibility": null,
            "width": null
          }
        },
        "caeab44bcd2e4ab1a93618f63dd7b50b": {
          "model_module": "@jupyter-widgets/controls",
          "model_name": "DescriptionStyleModel",
          "model_module_version": "1.5.0",
          "state": {
            "_model_module": "@jupyter-widgets/controls",
            "_model_module_version": "1.5.0",
            "_model_name": "DescriptionStyleModel",
            "_view_count": null,
            "_view_module": "@jupyter-widgets/base",
            "_view_module_version": "1.2.0",
            "_view_name": "StyleView",
            "description_width": ""
          }
        },
        "714f526e023c43b3bd36a1141806e6f1": {
          "model_module": "@jupyter-widgets/controls",
          "model_name": "HBoxModel",
          "model_module_version": "1.5.0",
          "state": {
            "_dom_classes": [],
            "_model_module": "@jupyter-widgets/controls",
            "_model_module_version": "1.5.0",
            "_model_name": "HBoxModel",
            "_view_count": null,
            "_view_module": "@jupyter-widgets/controls",
            "_view_module_version": "1.5.0",
            "_view_name": "HBoxView",
            "box_style": "",
            "children": [
              "IPY_MODEL_350ea9b60dbc47358693e696273f6d32",
              "IPY_MODEL_bddbfe9258794269bf09c4b98207ba02",
              "IPY_MODEL_ce07665e86ba412cb4a21effaa9c61d4"
            ],
            "layout": "IPY_MODEL_f0fdf6357803490a9db70b20152b546d"
          }
        },
        "350ea9b60dbc47358693e696273f6d32": {
          "model_module": "@jupyter-widgets/controls",
          "model_name": "HTMLModel",
          "model_module_version": "1.5.0",
          "state": {
            "_dom_classes": [],
            "_model_module": "@jupyter-widgets/controls",
            "_model_module_version": "1.5.0",
            "_model_name": "HTMLModel",
            "_view_count": null,
            "_view_module": "@jupyter-widgets/controls",
            "_view_module_version": "1.5.0",
            "_view_name": "HTMLView",
            "description": "",
            "description_tooltip": null,
            "layout": "IPY_MODEL_0dfb1220e4ef422e860d160ead8d6562",
            "placeholder": "​",
            "style": "IPY_MODEL_cefe5e5a92504295b7cfcda0fc672530",
            "value": "model.safetensors: 100%"
          }
        },
        "bddbfe9258794269bf09c4b98207ba02": {
          "model_module": "@jupyter-widgets/controls",
          "model_name": "FloatProgressModel",
          "model_module_version": "1.5.0",
          "state": {
            "_dom_classes": [],
            "_model_module": "@jupyter-widgets/controls",
            "_model_module_version": "1.5.0",
            "_model_name": "FloatProgressModel",
            "_view_count": null,
            "_view_module": "@jupyter-widgets/controls",
            "_view_module_version": "1.5.0",
            "_view_name": "ProgressView",
            "bar_style": "success",
            "description": "",
            "description_tooltip": null,
            "layout": "IPY_MODEL_c00f8fc951d44545aa07f8b56a886774",
            "max": 440449768,
            "min": 0,
            "orientation": "horizontal",
            "style": "IPY_MODEL_80128805f7734b5cada1d51e10cac2bb",
            "value": 440449768
          }
        },
        "ce07665e86ba412cb4a21effaa9c61d4": {
          "model_module": "@jupyter-widgets/controls",
          "model_name": "HTMLModel",
          "model_module_version": "1.5.0",
          "state": {
            "_dom_classes": [],
            "_model_module": "@jupyter-widgets/controls",
            "_model_module_version": "1.5.0",
            "_model_name": "HTMLModel",
            "_view_count": null,
            "_view_module": "@jupyter-widgets/controls",
            "_view_module_version": "1.5.0",
            "_view_name": "HTMLView",
            "description": "",
            "description_tooltip": null,
            "layout": "IPY_MODEL_e42d66482d7e4f8dbe16c269181dc787",
            "placeholder": "​",
            "style": "IPY_MODEL_d2826451d7eb4419a551310aa810ecda",
            "value": " 440M/440M [00:02&lt;00:00, 239MB/s]"
          }
        },
        "f0fdf6357803490a9db70b20152b546d": {
          "model_module": "@jupyter-widgets/base",
          "model_name": "LayoutModel",
          "model_module_version": "1.2.0",
          "state": {
            "_model_module": "@jupyter-widgets/base",
            "_model_module_version": "1.2.0",
            "_model_name": "LayoutModel",
            "_view_count": null,
            "_view_module": "@jupyter-widgets/base",
            "_view_module_version": "1.2.0",
            "_view_name": "LayoutView",
            "align_content": null,
            "align_items": null,
            "align_self": null,
            "border": null,
            "bottom": null,
            "display": null,
            "flex": null,
            "flex_flow": null,
            "grid_area": null,
            "grid_auto_columns": null,
            "grid_auto_flow": null,
            "grid_auto_rows": null,
            "grid_column": null,
            "grid_gap": null,
            "grid_row": null,
            "grid_template_areas": null,
            "grid_template_columns": null,
            "grid_template_rows": null,
            "height": null,
            "justify_content": null,
            "justify_items": null,
            "left": null,
            "margin": null,
            "max_height": null,
            "max_width": null,
            "min_height": null,
            "min_width": null,
            "object_fit": null,
            "object_position": null,
            "order": null,
            "overflow": null,
            "overflow_x": null,
            "overflow_y": null,
            "padding": null,
            "right": null,
            "top": null,
            "visibility": null,
            "width": null
          }
        },
        "0dfb1220e4ef422e860d160ead8d6562": {
          "model_module": "@jupyter-widgets/base",
          "model_name": "LayoutModel",
          "model_module_version": "1.2.0",
          "state": {
            "_model_module": "@jupyter-widgets/base",
            "_model_module_version": "1.2.0",
            "_model_name": "LayoutModel",
            "_view_count": null,
            "_view_module": "@jupyter-widgets/base",
            "_view_module_version": "1.2.0",
            "_view_name": "LayoutView",
            "align_content": null,
            "align_items": null,
            "align_self": null,
            "border": null,
            "bottom": null,
            "display": null,
            "flex": null,
            "flex_flow": null,
            "grid_area": null,
            "grid_auto_columns": null,
            "grid_auto_flow": null,
            "grid_auto_rows": null,
            "grid_column": null,
            "grid_gap": null,
            "grid_row": null,
            "grid_template_areas": null,
            "grid_template_columns": null,
            "grid_template_rows": null,
            "height": null,
            "justify_content": null,
            "justify_items": null,
            "left": null,
            "margin": null,
            "max_height": null,
            "max_width": null,
            "min_height": null,
            "min_width": null,
            "object_fit": null,
            "object_position": null,
            "order": null,
            "overflow": null,
            "overflow_x": null,
            "overflow_y": null,
            "padding": null,
            "right": null,
            "top": null,
            "visibility": null,
            "width": null
          }
        },
        "cefe5e5a92504295b7cfcda0fc672530": {
          "model_module": "@jupyter-widgets/controls",
          "model_name": "DescriptionStyleModel",
          "model_module_version": "1.5.0",
          "state": {
            "_model_module": "@jupyter-widgets/controls",
            "_model_module_version": "1.5.0",
            "_model_name": "DescriptionStyleModel",
            "_view_count": null,
            "_view_module": "@jupyter-widgets/base",
            "_view_module_version": "1.2.0",
            "_view_name": "StyleView",
            "description_width": ""
          }
        },
        "c00f8fc951d44545aa07f8b56a886774": {
          "model_module": "@jupyter-widgets/base",
          "model_name": "LayoutModel",
          "model_module_version": "1.2.0",
          "state": {
            "_model_module": "@jupyter-widgets/base",
            "_model_module_version": "1.2.0",
            "_model_name": "LayoutModel",
            "_view_count": null,
            "_view_module": "@jupyter-widgets/base",
            "_view_module_version": "1.2.0",
            "_view_name": "LayoutView",
            "align_content": null,
            "align_items": null,
            "align_self": null,
            "border": null,
            "bottom": null,
            "display": null,
            "flex": null,
            "flex_flow": null,
            "grid_area": null,
            "grid_auto_columns": null,
            "grid_auto_flow": null,
            "grid_auto_rows": null,
            "grid_column": null,
            "grid_gap": null,
            "grid_row": null,
            "grid_template_areas": null,
            "grid_template_columns": null,
            "grid_template_rows": null,
            "height": null,
            "justify_content": null,
            "justify_items": null,
            "left": null,
            "margin": null,
            "max_height": null,
            "max_width": null,
            "min_height": null,
            "min_width": null,
            "object_fit": null,
            "object_position": null,
            "order": null,
            "overflow": null,
            "overflow_x": null,
            "overflow_y": null,
            "padding": null,
            "right": null,
            "top": null,
            "visibility": null,
            "width": null
          }
        },
        "80128805f7734b5cada1d51e10cac2bb": {
          "model_module": "@jupyter-widgets/controls",
          "model_name": "ProgressStyleModel",
          "model_module_version": "1.5.0",
          "state": {
            "_model_module": "@jupyter-widgets/controls",
            "_model_module_version": "1.5.0",
            "_model_name": "ProgressStyleModel",
            "_view_count": null,
            "_view_module": "@jupyter-widgets/base",
            "_view_module_version": "1.2.0",
            "_view_name": "StyleView",
            "bar_color": null,
            "description_width": ""
          }
        },
        "e42d66482d7e4f8dbe16c269181dc787": {
          "model_module": "@jupyter-widgets/base",
          "model_name": "LayoutModel",
          "model_module_version": "1.2.0",
          "state": {
            "_model_module": "@jupyter-widgets/base",
            "_model_module_version": "1.2.0",
            "_model_name": "LayoutModel",
            "_view_count": null,
            "_view_module": "@jupyter-widgets/base",
            "_view_module_version": "1.2.0",
            "_view_name": "LayoutView",
            "align_content": null,
            "align_items": null,
            "align_self": null,
            "border": null,
            "bottom": null,
            "display": null,
            "flex": null,
            "flex_flow": null,
            "grid_area": null,
            "grid_auto_columns": null,
            "grid_auto_flow": null,
            "grid_auto_rows": null,
            "grid_column": null,
            "grid_gap": null,
            "grid_row": null,
            "grid_template_areas": null,
            "grid_template_columns": null,
            "grid_template_rows": null,
            "height": null,
            "justify_content": null,
            "justify_items": null,
            "left": null,
            "margin": null,
            "max_height": null,
            "max_width": null,
            "min_height": null,
            "min_width": null,
            "object_fit": null,
            "object_position": null,
            "order": null,
            "overflow": null,
            "overflow_x": null,
            "overflow_y": null,
            "padding": null,
            "right": null,
            "top": null,
            "visibility": null,
            "width": null
          }
        },
        "d2826451d7eb4419a551310aa810ecda": {
          "model_module": "@jupyter-widgets/controls",
          "model_name": "DescriptionStyleModel",
          "model_module_version": "1.5.0",
          "state": {
            "_model_module": "@jupyter-widgets/controls",
            "_model_module_version": "1.5.0",
            "_model_name": "DescriptionStyleModel",
            "_view_count": null,
            "_view_module": "@jupyter-widgets/base",
            "_view_module_version": "1.2.0",
            "_view_name": "StyleView",
            "description_width": ""
          }
        },
        "9581250f6196485c9c8c54e137a6b7e5": {
          "model_module": "@jupyter-widgets/controls",
          "model_name": "TextModel",
          "model_module_version": "1.5.0",
          "state": {
            "_dom_classes": [],
            "_model_module": "@jupyter-widgets/controls",
            "_model_module_version": "1.5.0",
            "_model_name": "TextModel",
            "_view_count": null,
            "_view_module": "@jupyter-widgets/controls",
            "_view_module_version": "1.5.0",
            "_view_name": "TextView",
            "continuous_update": true,
            "description": "Bemenet:",
            "description_tooltip": null,
            "disabled": false,
            "layout": "IPY_MODEL_50356a18f9224e059078b42df63531d5",
            "placeholder": "Írjon valamit ide...",
            "style": "IPY_MODEL_2731c3261e28401ab99ceaac419691d0",
            "value": ""
          }
        },
        "50356a18f9224e059078b42df63531d5": {
          "model_module": "@jupyter-widgets/base",
          "model_name": "LayoutModel",
          "model_module_version": "1.2.0",
          "state": {
            "_model_module": "@jupyter-widgets/base",
            "_model_module_version": "1.2.0",
            "_model_name": "LayoutModel",
            "_view_count": null,
            "_view_module": "@jupyter-widgets/base",
            "_view_module_version": "1.2.0",
            "_view_name": "LayoutView",
            "align_content": null,
            "align_items": null,
            "align_self": null,
            "border": null,
            "bottom": null,
            "display": null,
            "flex": null,
            "flex_flow": null,
            "grid_area": null,
            "grid_auto_columns": null,
            "grid_auto_flow": null,
            "grid_auto_rows": null,
            "grid_column": null,
            "grid_gap": null,
            "grid_row": null,
            "grid_template_areas": null,
            "grid_template_columns": null,
            "grid_template_rows": null,
            "height": null,
            "justify_content": null,
            "justify_items": null,
            "left": null,
            "margin": null,
            "max_height": null,
            "max_width": null,
            "min_height": null,
            "min_width": null,
            "object_fit": null,
            "object_position": null,
            "order": null,
            "overflow": null,
            "overflow_x": null,
            "overflow_y": null,
            "padding": null,
            "right": null,
            "top": null,
            "visibility": null,
            "width": null
          }
        },
        "2731c3261e28401ab99ceaac419691d0": {
          "model_module": "@jupyter-widgets/controls",
          "model_name": "DescriptionStyleModel",
          "model_module_version": "1.5.0",
          "state": {
            "_model_module": "@jupyter-widgets/controls",
            "_model_module_version": "1.5.0",
            "_model_name": "DescriptionStyleModel",
            "_view_count": null,
            "_view_module": "@jupyter-widgets/base",
            "_view_module_version": "1.2.0",
            "_view_name": "StyleView",
            "description_width": ""
          }
        },
        "0dfb2b998dbd4af2ba1a35443afc6012": {
          "model_module": "@jupyter-widgets/output",
          "model_name": "OutputModel",
          "model_module_version": "1.0.0",
          "state": {
            "_dom_classes": [],
            "_model_module": "@jupyter-widgets/output",
            "_model_module_version": "1.0.0",
            "_model_name": "OutputModel",
            "_view_count": null,
            "_view_module": "@jupyter-widgets/output",
            "_view_module_version": "1.0.0",
            "_view_name": "OutputView",
            "layout": "IPY_MODEL_cbd099897d784c21b03c02917de4bb59",
            "msg_id": "",
            "outputs": [
              {
                "output_type": "stream",
                "name": "stdout",
                "text": [
                  "BERT: Hangulat - Negatív, Bizonyosság - 98.06%\n",
                  "GloVe: Hangulat - Negatív, Bizonyosság - 99.99%\n"
                ]
              }
            ]
          }
        },
        "cbd099897d784c21b03c02917de4bb59": {
          "model_module": "@jupyter-widgets/base",
          "model_name": "LayoutModel",
          "model_module_version": "1.2.0",
          "state": {
            "_model_module": "@jupyter-widgets/base",
            "_model_module_version": "1.2.0",
            "_model_name": "LayoutModel",
            "_view_count": null,
            "_view_module": "@jupyter-widgets/base",
            "_view_module_version": "1.2.0",
            "_view_name": "LayoutView",
            "align_content": null,
            "align_items": null,
            "align_self": null,
            "border": null,
            "bottom": null,
            "display": null,
            "flex": null,
            "flex_flow": null,
            "grid_area": null,
            "grid_auto_columns": null,
            "grid_auto_flow": null,
            "grid_auto_rows": null,
            "grid_column": null,
            "grid_gap": null,
            "grid_row": null,
            "grid_template_areas": null,
            "grid_template_columns": null,
            "grid_template_rows": null,
            "height": null,
            "justify_content": null,
            "justify_items": null,
            "left": null,
            "margin": null,
            "max_height": null,
            "max_width": null,
            "min_height": null,
            "min_width": null,
            "object_fit": null,
            "object_position": null,
            "order": null,
            "overflow": null,
            "overflow_x": null,
            "overflow_y": null,
            "padding": null,
            "right": null,
            "top": null,
            "visibility": null,
            "width": null
          }
        }
      }
    }
  },
  "nbformat": 4,
  "nbformat_minor": 0
}