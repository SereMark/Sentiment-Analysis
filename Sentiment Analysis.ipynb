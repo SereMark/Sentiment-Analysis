{
 "cells": [
  {
   "cell_type": "markdown",
   "id": "0e8547d1",
   "metadata": {},
   "source": [
    "# Sentiment Analysis of IMDb Reviews\n",
    "\n",
    "This project employs sentiment analysis to classify IMDb movie reviews using static embeddings (Word2Vec) and contextual embeddings (BERT). This comparison aims to evaluate their effectiveness in sentiment classification, providing insights that could guide model selection and application strategies in natural language processing tasks."
   ]
  },
  {
   "cell_type": "markdown",
   "id": "5ce0ed72",
   "metadata": {},
   "source": [
    "### 1. Setup and Installation\n",
    "\n",
    "#### Import Libraries\n",
    "First, we import all required libraries and frameworks, setting up the environment for data processing and model training:"
   ]
  },
  {
   "cell_type": "code",
   "execution_count": 11,
   "id": "931ef7f9",
   "metadata": {},
   "outputs": [],
   "source": [
    "import pandas as pd\n",
    "import torch"
   ]
  },
  {
   "cell_type": "markdown",
   "id": "bf911807",
   "metadata": {},
   "source": [
    "#### Setup device\n",
    "Use CUDA if possible for faster training"
   ]
  },
  {
   "cell_type": "code",
   "execution_count": 12,
   "id": "4e151fca",
   "metadata": {},
   "outputs": [],
   "source": [
    "device = torch.device(\"cuda\" if torch.cuda.is_available() else \"cpu\")"
   ]
  },
  {
   "cell_type": "markdown",
   "id": "c046d722",
   "metadata": {},
   "source": [
    "#### Load the dataset\n",
    "We load the IMDB Dataset from which we will train the models"
   ]
  },
  {
   "cell_type": "code",
   "execution_count": 13,
   "id": "9844b6fe",
   "metadata": {},
   "outputs": [],
   "source": [
    "dataset = pd.read_csv('IMDB Dataset.csv')"
   ]
  },
  {
   "cell_type": "markdown",
   "id": "3b50a845",
   "metadata": {},
   "source": [
    "### 2. Problem Definition and Hypothesis\n",
    "#### Objective\n",
    "The main goal is to determine how well static and contextual embeddings can classify sentiments of IMDb movie reviews, thereby understanding the implications of each method's approach to text representation.\n",
    "\n",
    "#### Hypothesis\n",
    "It is hypothesized that contextual embeddings (BERT) will outperform static embeddings (Word2Vec) due to their advanced capability in understanding the context and nuances of language."
   ]
  }
 ],
 "metadata": {
  "kernelspec": {
   "display_name": "Python 3",
   "language": "python",
   "name": "python3"
  },
  "language_info": {
   "codemirror_mode": {
    "name": "ipython",
    "version": 3
   },
   "file_extension": ".py",
   "mimetype": "text/x-python",
   "name": "python",
   "nbconvert_exporter": "python",
   "pygments_lexer": "ipython3",
   "version": "3.12.3"
  }
 },
 "nbformat": 4,
 "nbformat_minor": 5
}
