{
 "cells": [
  {
   "cell_type": "markdown",
   "id": "0e8547d1",
   "metadata": {},
   "source": [
    "# Sentiment Analysis of IMDb Reviews\n",
    "\n",
    "This project employs sentiment analysis to classify IMDb movie reviews using static embeddings (Word2Vec) and contextual embeddings (BERT). This comparison aims to evaluate their effectiveness in sentiment classification, providing insights that could guide model selection and application strategies in natural language processing tasks.\n",
    "\n",
    "### 1. Setup and Installation\n",
    "#### Library Installation\n",
    "First, ensure the necessary Python libraries are installed. This setup includes libraries for data manipulation, machine learning, neural networks, and visualization:"
   ]
  },
  {
   "cell_type": "code",
   "execution_count": null,
   "id": "a0e7f889",
   "metadata": {},
   "outputs": [],
   "source": [
    "%pip install scipy pandas numpy transformers scikit-learn matplotlib seaborn threadpoolctl joblib gensim ipywidgets tqdm\n",
    "%pip install torch torchvision torchaudio --index-url https://download.pytorch.org/whl/cu121"
   ]
  },
  {
   "cell_type": "markdown",
   "id": "5ce0ed72",
   "metadata": {},
   "source": [
    "#### Import Libraries\n",
    "Import all required libraries and frameworks, setting up the environment for data processing and model training:"
   ]
  },
  {
   "cell_type": "code",
   "execution_count": null,
   "id": "931ef7f9",
   "metadata": {},
   "outputs": [],
   "source": [
    "import pandas as pd\n",
    "import numpy as np\n",
    "import torch\n",
    "from torch import nn, optim, utils\n",
    "from transformers import BertTokenizer, BertForSequenceClassification\n",
    "from sklearn.model_selection import train_test_split\n",
    "from sklearn.metrics import accuracy_score, precision_score, recall_score, f1_score, confusion_matrix, roc_curve, auc, matthews_corrcoef, precision_recall_curve, average_precision_score\n",
    "import matplotlib.pyplot as plt\n",
    "import seaborn as sns\n",
    "import re\n",
    "from gensim import downloader as api\n",
    "from tqdm.auto import tqdm\n",
    "from sklearn.feature_extraction.text import TfidfVectorizer\n",
    "\n",
    "# Setup device and seeds for reproducibility\n",
    "device = torch.device(\"cuda\" if torch.cuda.is_available() else \"cpu\")\n",
    "np.random.seed(42)\n",
    "torch.manual_seed(42)"
   ]
  },
  {
   "cell_type": "markdown",
   "id": "3b50a845",
   "metadata": {},
   "source": [
    "### 2. Problem Definition and Hypothesis\n",
    "#### Objective\n",
    "The main goal is to determine how well static and contextual embeddings can classify sentiments of IMDb movie reviews, thereby understanding the implications of each method's approach to text representation.\n",
    "\n",
    "#### Hypothesis\n",
    "It is hypothesized that contextual embeddings (BERT) will outperform static embeddings (Word2Vec) due to their advanced capability in understanding the context and nuances of language."
   ]
  }
 ],
 "metadata": {
  "kernelspec": {
   "display_name": "Python 3",
   "language": "python",
   "name": "python3"
  },
  "language_info": {
   "codemirror_mode": {
    "name": "ipython",
    "version": 3
   },
   "file_extension": ".py",
   "mimetype": "text/x-python",
   "name": "python",
   "nbconvert_exporter": "python",
   "pygments_lexer": "ipython3",
   "version": "3.12.3"
  }
 },
 "nbformat": 4,
 "nbformat_minor": 5
}
