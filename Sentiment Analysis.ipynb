{
 "cells": [
  {
   "cell_type": "markdown",
   "id": "0e8547d1",
   "metadata": {},
   "source": [
    "The task if to implement a sentiment analysis project, where you should aim to systematically explore and document the task according to the criteria laid out in the task. Here are the detailed steps tailored to your sentiment analysis task:\n",
    "\n",
    "1. Define the Problem and Objective\n",
    "Objective: Classify sentiments of IMDb movie reviews using vector-based text representations. The goal is to determine the efficacy of different embeddings and model architectures (static vs. contextual) in sentiment classification.\n",
    "Hypothesis: Contextual embeddings (like BERT) will perform significantly better than static embeddings (like Word2Vec) for sentiment classification in movie reviews.\n",
    "2. Data Acquisition and Preprocessing\n",
    "Dataset: Use the IMDb movie reviews dataset.\n",
    "Preprocessing:\n",
    "Tokenization and normalization (convert to lowercase, remove punctuation).\n",
    "Remove HTML tags as IMDb reviews often contain such artifacts.\n",
    "Ensure text data is prepared appropriately for both types of embeddings (static and contextual).\n",
    "3. Model Selection and Configuration\n",
    "Static Model Setup: Utilize pre-trained Word2Vec embeddings to transform text data into vectors and feed these into a simple neural network or SVM for classification.\n",
    "Contextual Model Setup: Employ a pre-trained BERT model from the Hugging Face library, fine-tuning it on the sentiment classification task.\n",
    "Baseline Model: As a baseline, implement a naive approach that classifies every review as positive (since many datasets have a high prevalence of positive reviews).\n",
    "4. Experimentation and Evaluation\n",
    "Experiment with Hyperparameters:\n",
    "Adjust learning rates and batch sizes for both the static and contextual models.\n",
    "Experiment with different network architectures for the neural network using Word2Vec embeddings.\n",
    "Input Generation Strategies: For the BERT model, experiment with different ways of presenting the text:\n",
    "Single sentence vs. review snippet (first few sentences).\n",
    "With and without additional preprocessing like stemming.\n",
    "Metrics: Evaluate the models using accuracy, precision, recall, and F1-score. Consider also using ROC-AUC if the classification threshold needs tuning.\n",
    "5. Documentation and Reporting\n",
    "Jupyter Notebook: Document all steps, from data preprocessing to model training and evaluation. Use markdown cells to explain the purpose and outcome of each block of code.\n",
    "Visualization: Include charts and tables to visually represent the performance comparison between models. Use confusion matrices and ROC curves where applicable.\n",
    "Results Analysis: Discuss the performance differences observed between static and contextual embeddings, and between different hyperparameter settings.\n",
    "Conclusions and Future Work: Summarize the findings and propose future directions for extending this work. Could other embeddings or models improve performance?\n",
    "6. Project Presentation\n",
    "Prepare a detailed presentation outlining your methodology, experiments, results, and conclusions. Make sure to tailor this presentation to your audience, focusing on the critical insights and what you've learned about NLP through this project.\n",
    "\n",
    "# Sentiment Analysis of IMDb Reviews\n",
    "\n",
    "\n",
    "This notebook implements a sentiment analysis task using IMDb movie reviews. We compare the effectiveness of static embeddings (Word2Vec) and contextual embeddings (BERT) in classifying sentiments expressed in movie reviews.\n",
    "\n",
    "### 1. Setup and Installation\n",
    "\n",
    "First, we import necessary libraries and set up our environment."
   ]
  },
  {
   "cell_type": "code",
   "execution_count": 1,
   "id": "a0e7f889",
   "metadata": {},
   "outputs": [
    {
     "name": "stdout",
     "output_type": "stream",
     "text": [
      "Requirement already satisfied: scipy in c:\\users\\serem\\appdata\\roaming\\python\\python312\\site-packages (1.12.0)\n",
      "Requirement already satisfied: pandas in c:\\users\\serem\\appdata\\local\\programs\\python\\python312\\lib\\site-packages (2.2.2)\n",
      "Requirement already satisfied: numpy in c:\\users\\serem\\appdata\\local\\programs\\python\\python312\\lib\\site-packages (1.26.4)\n",
      "Requirement already satisfied: transformers in c:\\users\\serem\\appdata\\local\\programs\\python\\python312\\lib\\site-packages (4.41.1)\n",
      "Requirement already satisfied: scikit-learn in c:\\users\\serem\\appdata\\roaming\\python\\python312\\site-packages (1.5.0)\n",
      "Requirement already satisfied: matplotlib in c:\\users\\serem\\appdata\\local\\programs\\python\\python312\\lib\\site-packages (3.9.0)\n",
      "Requirement already satisfied: seaborn in c:\\users\\serem\\appdata\\local\\programs\\python\\python312\\lib\\site-packages (0.13.2)\n",
      "Requirement already satisfied: threadpoolctl in c:\\users\\serem\\appdata\\local\\programs\\python\\python312\\lib\\site-packages (3.5.0)\n",
      "Requirement already satisfied: joblib in c:\\users\\serem\\appdata\\roaming\\python\\python312\\site-packages (1.4.2)\n",
      "Requirement already satisfied: gensim in c:\\users\\serem\\appdata\\roaming\\python\\python312\\site-packages (4.3.2)\n",
      "Requirement already satisfied: ipywidgets in c:\\users\\serem\\appdata\\local\\programs\\python\\python312\\lib\\site-packages (8.1.2)\n",
      "Requirement already satisfied: python-dateutil>=2.8.2 in c:\\users\\serem\\appdata\\roaming\\python\\python312\\site-packages (from pandas) (2.9.0.post0)\n",
      "Requirement already satisfied: pytz>=2020.1 in c:\\users\\serem\\appdata\\local\\programs\\python\\python312\\lib\\site-packages (from pandas) (2024.1)\n",
      "Requirement already satisfied: tzdata>=2022.7 in c:\\users\\serem\\appdata\\local\\programs\\python\\python312\\lib\\site-packages (from pandas) (2024.1)\n",
      "Requirement already satisfied: filelock in c:\\users\\serem\\appdata\\local\\programs\\python\\python312\\lib\\site-packages (from transformers) (3.14.0)\n",
      "Requirement already satisfied: huggingface-hub<1.0,>=0.23.0 in c:\\users\\serem\\appdata\\local\\programs\\python\\python312\\lib\\site-packages (from transformers) (0.23.1)\n",
      "Requirement already satisfied: packaging>=20.0 in c:\\users\\serem\\appdata\\roaming\\python\\python312\\site-packages (from transformers) (24.0)\n",
      "Requirement already satisfied: pyyaml>=5.1 in c:\\users\\serem\\appdata\\local\\programs\\python\\python312\\lib\\site-packages (from transformers) (6.0.1)\n",
      "Requirement already satisfied: regex!=2019.12.17 in c:\\users\\serem\\appdata\\local\\programs\\python\\python312\\lib\\site-packages (from transformers) (2024.5.15)\n",
      "Requirement already satisfied: requests in c:\\users\\serem\\appdata\\local\\programs\\python\\python312\\lib\\site-packages (from transformers) (2.32.2)\n",
      "Requirement already satisfied: tokenizers<0.20,>=0.19 in c:\\users\\serem\\appdata\\local\\programs\\python\\python312\\lib\\site-packages (from transformers) (0.19.1)\n",
      "Requirement already satisfied: safetensors>=0.4.1 in c:\\users\\serem\\appdata\\local\\programs\\python\\python312\\lib\\site-packages (from transformers) (0.4.3)\n",
      "Requirement already satisfied: tqdm>=4.27 in c:\\users\\serem\\appdata\\local\\programs\\python\\python312\\lib\\site-packages (from transformers) (4.66.4)\n",
      "Requirement already satisfied: contourpy>=1.0.1 in c:\\users\\serem\\appdata\\local\\programs\\python\\python312\\lib\\site-packages (from matplotlib) (1.2.1)\n",
      "Requirement already satisfied: cycler>=0.10 in c:\\users\\serem\\appdata\\local\\programs\\python\\python312\\lib\\site-packages (from matplotlib) (0.12.1)\n",
      "Requirement already satisfied: fonttools>=4.22.0 in c:\\users\\serem\\appdata\\local\\programs\\python\\python312\\lib\\site-packages (from matplotlib) (4.51.0)\n",
      "Requirement already satisfied: kiwisolver>=1.3.1 in c:\\users\\serem\\appdata\\local\\programs\\python\\python312\\lib\\site-packages (from matplotlib) (1.4.5)\n",
      "Requirement already satisfied: pillow>=8 in c:\\users\\serem\\appdata\\local\\programs\\python\\python312\\lib\\site-packages (from matplotlib) (10.3.0)\n",
      "Requirement already satisfied: pyparsing>=2.3.1 in c:\\users\\serem\\appdata\\local\\programs\\python\\python312\\lib\\site-packages (from matplotlib) (3.1.2)\n",
      "Requirement already satisfied: smart-open>=1.8.1 in c:\\users\\serem\\appdata\\roaming\\python\\python312\\site-packages (from gensim) (7.0.4)\n",
      "Requirement already satisfied: comm>=0.1.3 in c:\\users\\serem\\appdata\\roaming\\python\\python312\\site-packages (from ipywidgets) (0.2.2)\n",
      "Requirement already satisfied: ipython>=6.1.0 in c:\\users\\serem\\appdata\\roaming\\python\\python312\\site-packages (from ipywidgets) (8.24.0)\n",
      "Requirement already satisfied: traitlets>=4.3.1 in c:\\users\\serem\\appdata\\roaming\\python\\python312\\site-packages (from ipywidgets) (5.14.3)\n",
      "Requirement already satisfied: widgetsnbextension~=4.0.10 in c:\\users\\serem\\appdata\\local\\programs\\python\\python312\\lib\\site-packages (from ipywidgets) (4.0.10)\n",
      "Requirement already satisfied: jupyterlab-widgets~=3.0.10 in c:\\users\\serem\\appdata\\local\\programs\\python\\python312\\lib\\site-packages (from ipywidgets) (3.0.10)\n",
      "Requirement already satisfied: fsspec>=2023.5.0 in c:\\users\\serem\\appdata\\local\\programs\\python\\python312\\lib\\site-packages (from huggingface-hub<1.0,>=0.23.0->transformers) (2024.5.0)\n",
      "Requirement already satisfied: typing-extensions>=3.7.4.3 in c:\\users\\serem\\appdata\\local\\programs\\python\\python312\\lib\\site-packages (from huggingface-hub<1.0,>=0.23.0->transformers) (4.12.0)\n",
      "Requirement already satisfied: decorator in c:\\users\\serem\\appdata\\roaming\\python\\python312\\site-packages (from ipython>=6.1.0->ipywidgets) (5.1.1)\n",
      "Requirement already satisfied: jedi>=0.16 in c:\\users\\serem\\appdata\\roaming\\python\\python312\\site-packages (from ipython>=6.1.0->ipywidgets) (0.19.1)\n",
      "Requirement already satisfied: matplotlib-inline in c:\\users\\serem\\appdata\\roaming\\python\\python312\\site-packages (from ipython>=6.1.0->ipywidgets) (0.1.7)\n",
      "Requirement already satisfied: prompt-toolkit<3.1.0,>=3.0.41 in c:\\users\\serem\\appdata\\roaming\\python\\python312\\site-packages (from ipython>=6.1.0->ipywidgets) (3.0.43)\n",
      "Requirement already satisfied: pygments>=2.4.0 in c:\\users\\serem\\appdata\\roaming\\python\\python312\\site-packages (from ipython>=6.1.0->ipywidgets) (2.18.0)\n",
      "Requirement already satisfied: stack-data in c:\\users\\serem\\appdata\\roaming\\python\\python312\\site-packages (from ipython>=6.1.0->ipywidgets) (0.6.3)\n",
      "Requirement already satisfied: colorama in c:\\users\\serem\\appdata\\roaming\\python\\python312\\site-packages (from ipython>=6.1.0->ipywidgets) (0.4.6)\n",
      "Requirement already satisfied: six>=1.5 in c:\\users\\serem\\appdata\\roaming\\python\\python312\\site-packages (from python-dateutil>=2.8.2->pandas) (1.16.0)\n",
      "Requirement already satisfied: wrapt in c:\\users\\serem\\appdata\\roaming\\python\\python312\\site-packages (from smart-open>=1.8.1->gensim) (1.16.0)\n",
      "Requirement already satisfied: charset-normalizer<4,>=2 in c:\\users\\serem\\appdata\\local\\programs\\python\\python312\\lib\\site-packages (from requests->transformers) (3.3.2)\n",
      "Requirement already satisfied: idna<4,>=2.5 in c:\\users\\serem\\appdata\\local\\programs\\python\\python312\\lib\\site-packages (from requests->transformers) (3.7)\n",
      "Requirement already satisfied: urllib3<3,>=1.21.1 in c:\\users\\serem\\appdata\\local\\programs\\python\\python312\\lib\\site-packages (from requests->transformers) (2.2.1)\n",
      "Requirement already satisfied: certifi>=2017.4.17 in c:\\users\\serem\\appdata\\local\\programs\\python\\python312\\lib\\site-packages (from requests->transformers) (2024.2.2)\n",
      "Requirement already satisfied: parso<0.9.0,>=0.8.3 in c:\\users\\serem\\appdata\\roaming\\python\\python312\\site-packages (from jedi>=0.16->ipython>=6.1.0->ipywidgets) (0.8.4)\n",
      "Requirement already satisfied: wcwidth in c:\\users\\serem\\appdata\\roaming\\python\\python312\\site-packages (from prompt-toolkit<3.1.0,>=3.0.41->ipython>=6.1.0->ipywidgets) (0.2.13)\n",
      "Requirement already satisfied: executing>=1.2.0 in c:\\users\\serem\\appdata\\roaming\\python\\python312\\site-packages (from stack-data->ipython>=6.1.0->ipywidgets) (2.0.1)\n",
      "Requirement already satisfied: asttokens>=2.1.0 in c:\\users\\serem\\appdata\\roaming\\python\\python312\\site-packages (from stack-data->ipython>=6.1.0->ipywidgets) (2.4.1)\n",
      "Requirement already satisfied: pure-eval in c:\\users\\serem\\appdata\\roaming\\python\\python312\\site-packages (from stack-data->ipython>=6.1.0->ipywidgets) (0.2.2)\n",
      "Note: you may need to restart the kernel to use updated packages.\n",
      "Looking in indexes: https://download.pytorch.org/whl/cu121\n",
      "Requirement already satisfied: torch in c:\\users\\serem\\appdata\\local\\programs\\python\\python312\\lib\\site-packages (2.3.0+cu121)\n",
      "Requirement already satisfied: torchvision in c:\\users\\serem\\appdata\\local\\programs\\python\\python312\\lib\\site-packages (0.18.0+cu121)\n",
      "Requirement already satisfied: torchaudio in c:\\users\\serem\\appdata\\local\\programs\\python\\python312\\lib\\site-packages (2.3.0+cu121)\n",
      "Requirement already satisfied: filelock in c:\\users\\serem\\appdata\\local\\programs\\python\\python312\\lib\\site-packages (from torch) (3.14.0)\n",
      "Requirement already satisfied: typing-extensions>=4.8.0 in c:\\users\\serem\\appdata\\local\\programs\\python\\python312\\lib\\site-packages (from torch) (4.12.0)\n",
      "Requirement already satisfied: sympy in c:\\users\\serem\\appdata\\local\\programs\\python\\python312\\lib\\site-packages (from torch) (1.12)\n",
      "Requirement already satisfied: networkx in c:\\users\\serem\\appdata\\local\\programs\\python\\python312\\lib\\site-packages (from torch) (3.3)\n",
      "Requirement already satisfied: jinja2 in c:\\users\\serem\\appdata\\local\\programs\\python\\python312\\lib\\site-packages (from torch) (3.1.4)\n",
      "Requirement already satisfied: fsspec in c:\\users\\serem\\appdata\\local\\programs\\python\\python312\\lib\\site-packages (from torch) (2024.5.0)\n",
      "Requirement already satisfied: mkl<=2021.4.0,>=2021.1.1 in c:\\users\\serem\\appdata\\local\\programs\\python\\python312\\lib\\site-packages (from torch) (2021.4.0)\n",
      "Requirement already satisfied: numpy in c:\\users\\serem\\appdata\\local\\programs\\python\\python312\\lib\\site-packages (from torchvision) (1.26.4)\n",
      "Requirement already satisfied: pillow!=8.3.*,>=5.3.0 in c:\\users\\serem\\appdata\\local\\programs\\python\\python312\\lib\\site-packages (from torchvision) (10.3.0)\n",
      "Requirement already satisfied: intel-openmp==2021.* in c:\\users\\serem\\appdata\\local\\programs\\python\\python312\\lib\\site-packages (from mkl<=2021.4.0,>=2021.1.1->torch) (2021.4.0)\n",
      "Requirement already satisfied: tbb==2021.* in c:\\users\\serem\\appdata\\local\\programs\\python\\python312\\lib\\site-packages (from mkl<=2021.4.0,>=2021.1.1->torch) (2021.12.0)\n",
      "Requirement already satisfied: MarkupSafe>=2.0 in c:\\users\\serem\\appdata\\local\\programs\\python\\python312\\lib\\site-packages (from jinja2->torch) (2.1.5)\n",
      "Requirement already satisfied: mpmath>=0.19 in c:\\users\\serem\\appdata\\local\\programs\\python\\python312\\lib\\site-packages (from sympy->torch) (1.3.0)\n",
      "Note: you may need to restart the kernel to use updated packages.\n",
      "Using device: cuda\n"
     ]
    }
   ],
   "source": [
    "# Installation of necessary libraries with user flags\n",
    "%pip install scipy pandas numpy transformers scikit-learn matplotlib seaborn threadpoolctl joblib gensim ipywidgets\n",
    "%pip install torch torchvision torchaudio --index-url https://download.pytorch.org/whl/cu121\n",
    "\n",
    "# Import necessary libraries\n",
    "import pandas as pd\n",
    "import numpy as np\n",
    "import torch\n",
    "from torch import nn, optim\n",
    "from torch.utils.data import Dataset, DataLoader\n",
    "from transformers import BertTokenizer, BertForSequenceClassification\n",
    "from torch.optim import AdamW\n",
    "from sklearn.model_selection import train_test_split\n",
    "from sklearn.metrics import accuracy_score, precision_score, recall_score, f1_score\n",
    "import matplotlib.pyplot as plt\n",
    "import seaborn as sns\n",
    "import re\n",
    "from gensim import downloader as api\n",
    "\n",
    "# Check for CUDA availability for GPU acceleration\n",
    "device = torch.device(\"cuda\" if torch.cuda.is_available() else \"cpu\")\n",
    "print(f\"Using device: {device}\")\n",
    "\n",
    "# Set up random seed for reproducibility\n",
    "torch.manual_seed(42)\n",
    "np.random.seed(42)"
   ]
  },
  {
   "cell_type": "markdown",
   "id": "3b50a845",
   "metadata": {},
   "source": [
    "### 2. Problem Definition and Hypothesis\n",
    "#### Problem Definition\n",
    "The objective of this project is to classify sentiments of IMDb movie reviews using vector-based text representations. Specifically, we aim to determine the efficacy of different embeddings and model architectures (static vs. contextual) in sentiment classification.\n",
    "\n",
    "#### Hypothesis\n",
    "We hypothesize that contextual embeddings (like BERT) will perform significantly better than static embeddings (like Word2Vec) for sentiment classification in movie reviews."
   ]
  },
  {
   "cell_type": "markdown",
   "id": "ba8ffad1",
   "metadata": {},
   "source": [
    "### 3. Data Acquisition and Preprocessing\n",
    "We load the IMDb dataset and preprocess the text by removing HTML tags, converting to lowercase, and removing punctuation."
   ]
  },
  {
   "cell_type": "code",
   "execution_count": 2,
   "id": "a2e49595",
   "metadata": {},
   "outputs": [],
   "source": [
    "# Load the IMDb movie reviews dataset\n",
    "df = pd.read_csv('C:/Users/serem/Documents/Workspaces/Sentiment Analysis/IMDB Dataset.csv')\n",
    "df['review'] = df['review'].apply(lambda x: re.sub(r'<[^>]*>', '', x).lower().replace(r'[^\\w\\s]', ' ').strip())\n",
    "\n",
    "# Split data into training and testing sets\n",
    "train_texts, val_texts, train_labels, val_labels = train_test_split(df['review'], df['sentiment'].map({'positive': 1, 'negative': 0}), test_size=0.2, random_state=42)\n",
    "\n",
    "# Tokenization for BERT\n",
    "tokenizer = BertTokenizer.from_pretrained('bert-base-uncased')\n",
    "\n",
    "def tokenize_for_bert(texts):\n",
    "    return tokenizer(texts, padding='max_length', truncation=True, max_length=512, return_tensors=\"pt\")\n",
    "\n",
    "train_encodings = tokenize_for_bert(train_texts.tolist())\n",
    "val_encodings = tokenize_for_bert(val_texts.tolist())"
   ]
  },
  {
   "cell_type": "markdown",
   "id": "7889f9fa",
   "metadata": {},
   "source": [
    "### 4. Model Configuration\n",
    "#### Static Embeddings with Word2Vec\n",
    "We utilize pre-trained Word2Vec embeddings to transform text data into vectors and feed these into a simple neural network for classification."
   ]
  },
  {
   "cell_type": "code",
   "execution_count": 3,
   "id": "3b01719c",
   "metadata": {},
   "outputs": [],
   "source": [
    "# Load pre-trained Word2Vec\n",
    "word_vectors = api.load(\"word2vec-google-news-300\")\n",
    "\n",
    "# Model for Word2Vec embeddings\n",
    "class SentimentClassifier(nn.Module):\n",
    "    def __init__(self):\n",
    "        super(SentimentClassifier, self).__init__()\n",
    "        self.fc1 = nn.Linear(300, 50)\n",
    "        self.relu = nn.ReLU()\n",
    "        self.fc2 = nn.Linear(50, 1)\n",
    "        self.sigmoid = nn.Sigmoid()\n",
    "\n",
    "    def forward(self, x):\n",
    "        x = self.fc1(x)\n",
    "        x = self.relu(x)\n",
    "        x = self.fc2(x)\n",
    "        return self.sigmoid(x)\n",
    "\n",
    "static_model = SentimentClassifier().to(torch.device(\"cuda\" if torch.cuda.is_available() else \"cpu\"))"
   ]
  },
  {
   "cell_type": "markdown",
   "id": "dca0ad9b",
   "metadata": {},
   "source": [
    "#### Contextual Embeddings with BERT\n",
    "We employ a pre-trained BERT model from the Hugging Face library, fine-tuning it on the sentiment classification task."
   ]
  },
  {
   "cell_type": "code",
   "execution_count": 4,
   "id": "c8622244",
   "metadata": {},
   "outputs": [
    {
     "name": "stderr",
     "output_type": "stream",
     "text": [
      "Some weights of BertForSequenceClassification were not initialized from the model checkpoint at bert-base-uncased and are newly initialized: ['classifier.bias', 'classifier.weight']\n",
      "You should probably TRAIN this model on a down-stream task to be able to use it for predictions and inference.\n"
     ]
    }
   ],
   "source": [
    "# Load BERT model\n",
    "bert_model = BertForSequenceClassification.from_pretrained('bert-base-uncased').to(torch.device(\"cuda\" if torch.cuda.is_available() else \"cpu\"))"
   ]
  },
  {
   "cell_type": "markdown",
   "id": "5fb0d588",
   "metadata": {},
   "source": [
    "### 5. Experimentation\n",
    "We perform training and validation for both models.\n",
    "\n",
    "#### Define a Dataloader"
   ]
  },
  {
   "cell_type": "code",
   "execution_count": 5,
   "id": "50405a42",
   "metadata": {},
   "outputs": [],
   "source": [
    "# Define a dataloader\n",
    "class IMDbDataset(Dataset):\n",
    "    def __init__(self, encodings, labels):\n",
    "        self.encodings = encodings\n",
    "        self.labels = labels\n",
    "\n",
    "    def __len__(self):\n",
    "        return len(self.labels)\n",
    "\n",
    "    def __getitem__(self, idx):\n",
    "        item = {key: val[idx].clone().detach() for key, val in self.encodings.items()}\n",
    "        item['labels'] = torch.tensor(self.labels[idx], dtype=torch.long)\n",
    "        return item\n",
    "\n",
    "train_dataset = IMDbDataset(train_encodings, train_labels.tolist())\n",
    "val_dataset = IMDbDataset(val_encodings, val_labels.tolist())\n",
    "train_loader = DataLoader(train_dataset, batch_size=16, shuffle=True)\n",
    "val_loader = DataLoader(val_dataset, batch_size=16, shuffle=False)"
   ]
  },
  {
   "cell_type": "markdown",
   "id": "929df21f",
   "metadata": {},
   "source": [
    "#### Training and Evaluation Functions"
   ]
  },
  {
   "cell_type": "code",
   "execution_count": 6,
   "id": "d32099d4",
   "metadata": {},
   "outputs": [],
   "source": [
    "# Training function\n",
    "def train(model, data_loader, optimizer, device):\n",
    "    model.train()\n",
    "    total_loss = 0\n",
    "    for batch in data_loader:\n",
    "        optimizer.zero_grad()\n",
    "        input_ids = batch['input_ids'].to(device)\n",
    "        attention_mask = batch['attention_mask'].to(device)\n",
    "        labels = batch['labels'].to(device)\n",
    "        outputs = model(input_ids, attention_mask=attention_mask, labels=labels)\n",
    "        loss = outputs.loss\n",
    "        loss.backward()\n",
    "        optimizer.step()\n",
    "        total_loss += loss.item()\n",
    "    return total_loss / len(data_loader)\n",
    "\n",
    "# Evaluation function\n",
    "def evaluate(model, data_loader, device):\n",
    "    model.eval()\n",
    "    total_loss = 0\n",
    "    with torch.no_grad():\n",
    "        for batch in data_loader:\n",
    "            input_ids = batch['input_ids'].to(device)\n",
    "            attention_mask = batch['attention_mask'].to(device)\n",
    "            labels = batch['labels'].to(device)\n",
    "            outputs = model(input_ids, attention_mask=attention_mask, labels=labels)\n",
    "            loss = outputs.loss\n",
    "            total_loss += loss.item()\n",
    "    return total_loss / len(data_loader)"
   ]
  },
  {
   "cell_type": "markdown",
   "id": "02aeebd4",
   "metadata": {},
   "source": [
    "#### 6. Model Training\n",
    "Train the BERT model and validate its performance."
   ]
  },
  {
   "cell_type": "code",
   "execution_count": 7,
   "id": "7184b264",
   "metadata": {},
   "outputs": [
    {
     "name": "stderr",
     "output_type": "stream",
     "text": [
      "c:\\Users\\serem\\AppData\\Local\\Programs\\Python\\Python312\\Lib\\site-packages\\transformers\\optimization.py:588: FutureWarning: This implementation of AdamW is deprecated and will be removed in a future version. Use the PyTorch implementation torch.optim.AdamW instead, or set `no_deprecation_warning=True` to disable this warning\n",
      "  warnings.warn(\n"
     ]
    },
    {
     "name": "stdout",
     "output_type": "stream",
     "text": [
      "Optimizers initialized.\n",
      "Using device: cuda\n",
      "Starting Epoch 1\n",
      "Training phase...\n"
     ]
    },
    {
     "name": "stderr",
     "output_type": "stream",
     "text": [
      "C:\\Users\\serem\\AppData\\Local\\Temp\\ipykernel_15260\\450977610.py:11: UserWarning: To copy construct from a tensor, it is recommended to use sourceTensor.clone().detach() or sourceTensor.clone().detach().requires_grad_(True), rather than torch.tensor(sourceTensor).\n",
      "  item = {key: torch.tensor(val[idx]) for key, val in self.encodings.items()}\n",
      "c:\\Users\\serem\\AppData\\Local\\Programs\\Python\\Python312\\Lib\\site-packages\\transformers\\models\\bert\\modeling_bert.py:435: UserWarning: 1Torch was not compiled with flash attention. (Triggered internally at ..\\aten\\src\\ATen\\native\\transformers\\cuda\\sdp_utils.cpp:455.)\n",
      "  attn_output = torch.nn.functional.scaled_dot_product_attention(\n"
     ]
    },
    {
     "name": "stdout",
     "output_type": "stream",
     "text": [
      "Finished training for Epoch 1, Train Loss: 0.2100180212739855\n",
      "Evaluation phase...\n",
      "Finished evaluation for Epoch 1, Val Loss: 0.15192935450077058\n",
      "Epoch 1, Train Loss: 0.2100180212739855, Val Loss: 0.15192935450077058\n",
      "Starting Epoch 2\n",
      "Training phase...\n",
      "Finished training for Epoch 2, Train Loss: 0.11100937440088018\n",
      "Evaluation phase...\n",
      "Finished evaluation for Epoch 2, Val Loss: 0.1637596469003707\n",
      "Epoch 2, Train Loss: 0.11100937440088018, Val Loss: 0.1637596469003707\n",
      "Starting Epoch 3\n",
      "Training phase...\n",
      "Finished training for Epoch 3, Train Loss: 0.059762575609143824\n",
      "Evaluation phase...\n",
      "Finished evaluation for Epoch 3, Val Loss: 0.1787830765016377\n",
      "Epoch 3, Train Loss: 0.059762575609143824, Val Loss: 0.1787830765016377\n"
     ]
    }
   ],
   "source": [
    "# Optimizers\n",
    "bert_optimizer = AdamW(bert_model.parameters(), lr=2e-5)\n",
    "static_optimizer = optim.Adam(static_model.parameters(), lr=0.001)\n",
    "\n",
    "# Training loop\n",
    "device = torch.device(\"cuda\" if torch.cuda.is_available() else \"cpu\")\n",
    "print(f\"Using device: {device}\")\n",
    "\n",
    "for epoch in range(3):\n",
    "    print(f\"Starting Epoch {epoch + 1}\")\n",
    "    \n",
    "    print(\"Training phase...\")\n",
    "    train_loss = train(bert_model, train_loader, bert_optimizer, device)\n",
    "    print(f\"Finished training for Epoch {epoch + 1}, Train Loss: {train_loss}\")\n",
    "    \n",
    "    print(\"Evaluation phase...\")\n",
    "    val_loss = evaluate(bert_model, val_loader, device)\n",
    "    print(f\"Finished evaluation for Epoch {epoch + 1}, Val Loss: {val_loss}\")"
   ]
  },
  {
   "cell_type": "markdown",
   "id": "9d2b560c",
   "metadata": {},
   "source": [
    "### 7. Evaluation\n",
    "Assess the performance of the BERT model using accuracy and other metrics."
   ]
  },
  {
   "cell_type": "code",
   "execution_count": 10,
   "id": "bf996c77",
   "metadata": {},
   "outputs": [
    {
     "name": "stderr",
     "output_type": "stream",
     "text": [
      "C:\\Users\\serem\\AppData\\Local\\Temp\\ipykernel_15260\\450977610.py:11: UserWarning: To copy construct from a tensor, it is recommended to use sourceTensor.clone().detach() or sourceTensor.clone().detach().requires_grad_(True), rather than torch.tensor(sourceTensor).\n",
      "  item = {key: torch.tensor(val[idx]) for key, val in self.encodings.items()}\n"
     ]
    },
    {
     "name": "stdout",
     "output_type": "stream",
     "text": [
      "Accuracy: 0.942\n",
      "Precision: 0.9301562801466332\n",
      "Recall: 0.9567374479063306\n",
      "F1 Score: 0.9432596360790452\n"
     ]
    }
   ],
   "source": [
    "import torch\n",
    "from sklearn.metrics import accuracy_score, precision_score, recall_score, f1_score\n",
    "\n",
    "def get_predictions(model, data_loader, device):\n",
    "    model.eval()\n",
    "    predictions = []\n",
    "    real_values = []\n",
    "    with torch.no_grad():\n",
    "        for batch in data_loader:\n",
    "            inputs = batch['input_ids'].to(device)\n",
    "            attention_mask = batch['attention_mask'].to(device)\n",
    "            labels = batch['labels'].to(device)\n",
    "            outputs = model(inputs, attention_mask=attention_mask)\n",
    "            preds = torch.argmax(outputs.logits, dim=1)\n",
    "            predictions.extend(preds.cpu())  # Move to CPU here\n",
    "            real_values.extend(labels.cpu())  # Move to CPU here\n",
    "    return predictions, real_values\n",
    "\n",
    "# Get predictions\n",
    "predictions, real_values = get_predictions(bert_model, val_loader, device)\n",
    "\n",
    "# Convert list of tensors to single tensor\n",
    "predictions = torch.stack(predictions)\n",
    "real_values = torch.stack(real_values)\n",
    "\n",
    "# Calculate metrics\n",
    "accuracy = accuracy_score(real_values.numpy(), predictions.numpy())\n",
    "precision = precision_score(real_values.numpy(), predictions.numpy(), average='binary')\n",
    "recall = recall_score(real_values.numpy(), predictions.numpy(), average='binary')\n",
    "f1 = f1_score(real_values.numpy(), predictions.numpy(), average='binary')\n",
    "\n",
    "print(f\"Accuracy: {accuracy}\")\n",
    "print(f\"Precision: {precision}\")\n",
    "print(f\"Recall: {recall}\")\n",
    "print(f\"F1 Score: {f1}\")"
   ]
  },
  {
   "cell_type": "markdown",
   "id": "5e1b9955",
   "metadata": {},
   "source": [
    "### 8. Visualization\n",
    "Visualize the performance metrics using histograms."
   ]
  },
  {
   "cell_type": "code",
   "execution_count": 11,
   "id": "d93c3681",
   "metadata": {},
   "outputs": [
    {
     "data": {
      "image/png": "[encoded data removed]",
      "text/plain": [
       "<Figure size 1000x500 with 1 Axes>"
      ]
     },
     "metadata": {},
     "output_type": "display_data"
    }
   ],
   "source": [
    "plt.figure(figsize=(10, 5))\n",
    "plt.hist(predictions, bins=2, alpha=0.7, color='blue', label='Predictions')\n",
    "plt.hist(real_values, bins=2, alpha=0.7, color='red', label='Actual')\n",
    "plt.xlabel('Sentiments')\n",
    "plt.ylabel('Number of Samples')\n",
    "plt.legend()\n",
    "plt.show()"
   ]
  },
  {
   "cell_type": "markdown",
   "id": "039a79ad",
   "metadata": {},
   "source": [
    "### 9. Conclusions and Future Work\n",
    "#### Findings\n",
    "The BERT model demonstrates strong performance in sentiment classification, with high accuracy, precision, recall, and F1 scores.\n",
    "The performance of the BERT model suggests that contextual embeddings capture the nuances of sentiment better than static embeddings.\n",
    "#### Limitations\n",
    "The training time and computational resources required for BERT are significantly higher than those for Word2Vec-based models.\n",
    "The current implementation does not include hyperparameter tuning, which could potentially improve model performance.\n",
    "#### Future Directions\n",
    "Implement and evaluate the Word2Vec-based model for a direct comparison with BERT.\n",
    "Experiment with other contextual models like RoBERTa or GPT to see if they offer performance improvements.\n",
    "Explore different preprocessing techniques and their impact on model performance.\n",
    "Conduct hyperparameter tuning to optimize model performance further."
   ]
  }
 ],
 "metadata": {
  "kernelspec": {
   "display_name": "Python 3",
   "language": "python",
   "name": "python3"
  },
  "language_info": {
   "codemirror_mode": {
    "name": "ipython",
    "version": 3
   },
   "file_extension": ".py",
   "mimetype": "text/x-python",
   "name": "python",
   "nbconvert_exporter": "python",
   "pygments_lexer": "ipython3",
   "version": "3.12.3"
  }
 },
 "nbformat": 4,
 "nbformat_minor": 5
}
